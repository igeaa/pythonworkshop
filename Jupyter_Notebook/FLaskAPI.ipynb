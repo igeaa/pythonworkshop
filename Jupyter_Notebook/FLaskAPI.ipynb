{
 "cells": [
  {
   "cell_type": "markdown",
   "metadata": {},
   "source": [
    "# Flask API\n",
    "\n",
    "We are going to build the Flask Python App that will make use of our neural network Python class.\n",
    "\n",
    "Let's first create a file called app.py.\n",
    "\n",
    "To get started, let's import some of the libraries we are going to use."
   ]
  },
  {
   "cell_type": "code",
   "execution_count": null,
   "metadata": {
    "collapsed": true
   },
   "outputs": [],
   "source": [
    "from flask import Flask, redirect, render_template, request, session, url_for, send_from_directory, jsonify\n",
    "from nn_model import NN_model\n",
    "from rr_model import RR_model\n",
    "from werkzeug import secure_filename\n",
    "from configparser import SafeConfigParser\n",
    "from logger import Logger\n",
    "import pickle as pkl\n",
    "import os"
   ]
  },
  {
   "cell_type": "markdown",
   "metadata": {},
   "source": [
    "Most of these libraries come with the Anaconda and/or Python installation package, but there are some libraries such as Flask and werkzeug you will have to download yourself."
   ]
  },
  {
   "cell_type": "markdown",
   "metadata": {},
   "source": [
    "### Logger Setup\n",
    "\n",
    "Let's setup our logger, in this case the logger is directing all the log lines to main_app.log. It is always good practice to name your log files with heart otherwise it will be very hard to debug."
   ]
  },
  {
   "cell_type": "code",
   "execution_count": null,
   "metadata": {
    "collapsed": true
   },
   "outputs": [],
   "source": [
    "log = Logger('main_app.log')\n",
    "log.info('Starting Application')"
   ]
  },
  {
   "cell_type": "markdown",
   "metadata": {},
   "source": [
    "### Reading from a config file\n",
    "\n",
    "Config files are to help you to give meaning to the \"magic\" numbers you defined for your model or class. You can think of it as a global variable that is read from a file with the extension of .ini"
   ]
  },
  {
   "cell_type": "code",
   "execution_count": null,
   "metadata": {
    "collapsed": true
   },
   "outputs": [],
   "source": [
    "config = SafeConfigParser()\n",
    "config.read('config.ini')\n",
    "UPLOAD_FOLDER = config.get('UploadFolders','UPLOAD_FOLDER_PRED')\n",
    "UPLOAD_FOLDER_TRAIN = config.get('UploadFolders','UPLOAD_FOLDER_TRAIN')\n",
    "DOWNLOAD_FOLDER = config.get('DownloadFolders','DOWNLOAD_FOLDER')\n",
    "ALLOWED_EXT = set(['csv'])"
   ]
  },
  {
   "cell_type": "markdown",
   "metadata": {
    "collapsed": true
   },
   "source": [
    "### Setting Flask Variables\n",
    "\n",
    "Flask variables are needed to run the app successfully. In the code below, the Flask app is declared and the upload folder for any file is specified.\n",
    "You should notice there is a secret key. The secret key is needed for implementing accounts for login, so you can remove it if you are not planning to implement login functions."
   ]
  },
  {
   "cell_type": "code",
   "execution_count": null,
   "metadata": {
    "collapsed": true
   },
   "outputs": [],
   "source": [
    "app = Flask(__name__)\n",
    "app.config['UPLOAD_FOLDER'] = UPLOAD_FOLDER\n",
    "app.secret_key = os.urandom(12)"
   ]
  },
  {
   "cell_type": "markdown",
   "metadata": {},
   "source": [
    "### Setting up Model variables\n",
    "\n",
    "The variables we are going to set are global variables used to store the active model, temporary model, and the secondary model."
   ]
  },
  {
   "cell_type": "code",
   "execution_count": null,
   "metadata": {
    "collapsed": true
   },
   "outputs": [],
   "source": [
    "model = None\n",
    "temp_model = None\n",
    "secondary_model = None"
   ]
  },
  {
   "cell_type": "markdown",
   "metadata": {},
   "source": [
    "### Pickling Setup\n",
    "\n",
    "In the below lines, a pickle file name is decided then we check if there is an existing pickle file with that name. If there is one, we initialize our active model with that pickle file, if not we create a brand new model class."
   ]
  },
  {
   "cell_type": "code",
   "execution_count": null,
   "metadata": {
    "collapsed": true
   },
   "outputs": [],
   "source": [
    "fname = 'nn_model.pkl'\n",
    "if os.path.isfile(fname):\n",
    "\tfile_opened = open(fname, \"rb\")\n",
    "\tmodel = pkl.load(file_opened)\n",
    "\tfile_opened.close()\n",
    "else:\n",
    "\tmodel = NN_model()"
   ]
  },
  {
   "cell_type": "markdown",
   "metadata": {},
   "source": [
    "# Now this is where the meat and patatoes of the app is. We are going to implement the functions that our HTML will call to interact with our model\n",
    "\n",
    "## Flask Route Setup Part 1\n",
    "\n",
    "In this part we are going to setup some functions to help us do the initial redirect and to download the files."
   ]
  },
  {
   "cell_type": "code",
   "execution_count": null,
   "metadata": {
    "collapsed": true
   },
   "outputs": [],
   "source": [
    "@app.route('/')\n",
    "def home():\n",
    "\tsession['changedmodel' = 'False'\n",
    "\treturn redirect(url_for('index_train'))\n",
    "\n",
    "@app.route('/download', methods=['GET'])\n",
    "def download(filename_1):\n",
    "\ttry:\n",
    "\t\tabs_path = app.root_path + DOWNLOAD_FOLDER\n",
    "\t\treturn send_from_directory(abs_path,filename=filename_1,as_attachment=True)\n",
    "\texcept:\n",
    "\t\terrorString = 'Unable to download file'\n",
    "\t\treturn render_template('predict_submission.html',errorOcurred='True',errorInfo=errorString)\n",
    "\treturn render_tempalte('predict_submission.html')\n",
    "\t\n",
    "\n"
   ]
  },
  {
   "cell_type": "markdown",
   "metadata": {},
   "source": [
    "The home function is for the initial redirect as we made custom URL for each function. THe download function takes a file name as parameter and downloads that file from the selected path as an attachment"
   ]
  },
  {
   "cell_type": "markdown",
   "metadata": {},
   "source": [
    "## Flask Route Setup Part 2\n",
    "\n",
    "In this part we are going to set up the changing model mechanism. It simply takes the active model, change that to the secondary_model, then change the secondary_model to the active model."
   ]
  },
  {
   "cell_type": "code",
   "execution_count": null,
   "metadata": {
    "collapsed": true
   },
   "outputs": [],
   "source": [
    "@app.route('/change_model',methods=['GET','POST'])\n",
    "def change_model():\n",
    "\tglobal model, temp_model,secondary_model\n",
    "\tsession['changedmodel'] = 'True'\n",
    "\tif secondary_model is not None:\n",
    "\t\ttemp = secondary_model\n",
    "\t\tsecondary_model = model\n",
    "\t\tmodel = temp\n",
    "\telse:\n",
    "\t\tsecondary_model = model\n",
    "\t\tmodel = RR_model()\n",
    "\treturn redirect(url_for('index_train'))\n",
    "\n"
   ]
  },
  {
   "cell_type": "markdown",
   "metadata": {},
   "source": [
    "## Flask Route Setup Part 3\n",
    "\n",
    "In this part, we are going to implement the predictions function. The predict function will check if the file meets the requirements to be sent to the model class. Once everything checks out it will save the uploaded file and then pass it to the model class method, where it is then downloaded."
   ]
  },
  {
   "cell_type": "code",
   "execution_count": null,
   "metadata": {
    "collapsed": true
   },
   "outputs": [],
   "source": [
    "@app.route('/predict',methods=['GET'])\n",
    "def predict():\n",
    "\tif request.method == 'POST' and request.files['file']:\n",
    "\t\tfile_to_process = request.files['file']\n",
    "\t\tfilename = secure_filename(file_to_process.filename)\n",
    "\t\tfile_to_process.save(os.path.join(app.config['UPLOAD_FOLDER'],filename))\n",
    "\t\treturn download(model.predict(file_to_process.filename))\n",
    "\treturn render_template('index_Predict.html')\n"
   ]
  },
  {
   "cell_type": "markdown",
   "metadata": {},
   "source": [
    "## Flask Route Setup Part 4\n",
    "\n",
    "In this part we are going to make the training UI display function for training.\n",
    "\n",
    "This functino renders the training page. This function will check if the model is being changed or is a file uplaoded for training. It will redirect to the loading screen for training once everything is validated.\n",
    "The reason why we do not perform the training process in this page is because we want to show an interface while the training process is happening. Otherwise the frontend HTML page will look like it's stuck."
   ]
  },
  {
   "cell_type": "code",
   "execution_count": null,
   "metadata": {
    "collapsed": true
   },
   "outputs": [],
   "source": [
    "@app.route('/train',methods=['GET','POST'])\n",
    "def index_train():\n",
    "    if session['changedmodel'] == 'True':\n",
    "        session['changedmodel'] = 'False'\n",
    "        return render_template('index_Train.html',modelChanged='True')\n",
    "    elif request.method == 'POST':\n",
    "        file_to_train = request.files['file']\n",
    "        if file_to_train and allowed_file(file_to_train.filename):\n",
    "            filename = secure_filename(file_to_train.filename)\n",
    "            app.config['UPLOAD_FOLDER'] = UPLOAD_FOLDER_TRAIN\n",
    "            file_to_train.save(os.path.join(app.config['UPLOAD_FOLDER'],filename))\n",
    "            session['trainingFile'] = file_to_train.filename\n",
    "            return redirect(url_for('load_Train'))\n",
    "        elif request.form['change'] == 'Change Model':\n",
    "            return redirect(url_for('change_model'))\n",
    "    return render_template('index_Train.html')\n",
    "\n"
   ]
  },
  {
   "cell_type": "markdown",
   "metadata": {},
   "source": [
    "## Flask Route Setup Part 5\n",
    "\n",
    "Finally we get to the training part. This function we are going to make will take care of the training process, getting the classification report, and redirecting to the results page."
   ]
  },
  {
   "cell_type": "code",
   "execution_count": null,
   "metadata": {
    "collapsed": true
   },
   "outputs": [],
   "source": [
    "@app.route('/training_in_progress', methods=['GET', 'POST'])\n",
    "def load_Train():\n",
    "    global newReport, currentReport,temp_model\n",
    "    temp_model = NN_model()\n",
    "    if request.method == 'POST':\n",
    "        latest_report = ''\n",
    "        try:\n",
    "            latest_report = temp_model.train(session['trainingFile'])\n",
    "        except:\n",
    "            errorString = 'Unable to generate a report based on the training data. Training data is invalid. Please upload another set of training data.'\n",
    "            log.error(errorString)\n",
    "            session['errorInfo'] = errorString\n",
    "            session['errorOc'] = True\n",
    "            return redirect(url_for('index_train'))\n",
    "\n",
    "        if model is not None:\n",
    "            previous_report = model.get_report()\n",
    "        else:\n",
    "            previous_report = None\n",
    "            \n",
    "            \n",
    "        if previous_report == None:\n",
    "            currentReport = [{\"No Model has been trained before\": \"This is the first training of the model.\"}]\n",
    "        else:\n",
    "            currentReport = previous_report\n",
    "            \n",
    "        newReport = latest_report\n",
    "        session['fileChosen'] = session['trainingFile']\n",
    "        app.config['UPLOAD_FOLDER'] = UPLOAD_FOLDER\n",
    "        log.info('Training complete.')\n",
    "        return redirect(url_for('train_res'))\n",
    "    else:\n",
    "        return render_template('loading.html')"
   ]
  },
  {
   "cell_type": "markdown",
   "metadata": {},
   "source": [
    "## Flask Route Setup Part 6\n",
    "\n",
    "In this part we are going to make a function that displays the training result. If the user accepts the results then we will redirect to the loading page where the changes to the active model will be applied. If the user declines the training results, then the temporary model object will be discarded."
   ]
  },
  {
   "cell_type": "code",
   "execution_count": null,
   "metadata": {
    "collapsed": true
   },
   "outputs": [],
   "source": [
    "@app.route('/train_result', methods=['GET','POST'])\n",
    "def train_res():\n",
    "    global temp_model\n",
    "    log.info('Training results rendered.')\n",
    "    try:\n",
    "        if request.method == 'POST':\n",
    "            #These statements check to see the decision of the user\n",
    "            if request.form['accept'] == 'Accept Changes':\n",
    "                log.info('Changes accepted.')\n",
    "                return redirect(url_for('load_accept'))\n",
    "            elif request.form['accept'] == 'Discard Changes':\n",
    "                #If the user discards the changes, this line will reset the temporary model\n",
    "                temp_model = None\n",
    "                log.info('Changes rejected. Discarding new model.')\n",
    "                return redirect(url_for('index_train'))\n",
    "            else:\n",
    "                return render_template('Train_result.html', newjsonTable=newReport, currentjsonTable=currentReport)\n",
    "    except:\n",
    "        errorString = 'Unable to gather model training results. Returning to training page.'\n",
    "        log.error(errorString)\n",
    "        session['errorOc'] = True\n",
    "        session['errorInfo'] = errorString\n",
    "        return render_template('Train_result.html', newjsonTable=newReport, currentjsonTable=currentReport, errorOcurred='True', errorInfo=errorString)\n",
    "    return render_template('Train_result.html', newjsonTable=newReport, currentjsonTable=currentReport)"
   ]
  },
  {
   "cell_type": "markdown",
   "metadata": {},
   "source": [
    "## Flask Route Setup Part 7\n",
    "\n",
    "In this part we will implement the function that will apply the changes once you accept the training results. It will update the picle file to the newest model. Afterwards, this function will redirect you back to the training page."
   ]
  },
  {
   "cell_type": "code",
   "execution_count": null,
   "metadata": {
    "collapsed": true
   },
   "outputs": [],
   "source": [
    "@app.route('/loading', methods=['GET', 'POST'])\n",
    "def load_accept(filename_load=\"nothing\"):\n",
    "\tglobal temp_model,model\n",
    "\tif request.method != 'GET':\n",
    "\t\tfilename_load = session['trainingFile']\n",
    "\tif request.method == 'GET':\n",
    "\t\treturn render_template('accepted.html')\n",
    "\telif request.method == 'POST' and filename_load != 'nothing':\n",
    "\t\tlog.info('Executing saving sequence.')\n",
    "\t\tmodel = temp_model\n",
    "\t\ttemp_model = None\n",
    "\t\tfile_pickle = open(fname,'wb')\n",
    "\t\tpickled = pkl.dump(model,file_pickle)\n",
    "\t\tfile_pickle.close()\n",
    "\t\treturn redirect(url_for('index_train'))\n",
    "\treturn render_template('accepted.html')"
   ]
  },
  {
   "cell_type": "markdown",
   "metadata": {},
   "source": [
    "# Congrats! You have completed all the coding part for the Flask App!!\n",
    "\n",
    "## Now you can use the previous file \"run.py\" that you made to run the Flask Application by calling the command below."
   ]
  },
  {
   "cell_type": "code",
   "execution_count": null,
   "metadata": {
    "collapsed": true
   },
   "outputs": [],
   "source": [
    "python run.py"
   ]
  },
  {
   "cell_type": "markdown",
   "metadata": {},
   "source": [
    "# Now you are ready to access your app from your browser!\n",
    "\n",
    "Click this!\n",
    "[127.0.0.1:5000](http://127.0.0.1:5000)"
   ]
  }
 ],
 "metadata": {
  "kernelspec": {
   "display_name": "Python 2",
   "language": "python",
   "name": "python2"
  },
  "language_info": {
   "codemirror_mode": {
    "name": "ipython",
    "version": 2
   },
   "file_extension": ".py",
   "mimetype": "text/x-python",
   "name": "python",
   "nbconvert_exporter": "python",
   "pygments_lexer": "ipython2",
   "version": "2.7.13"
  }
 },
 "nbformat": 4,
 "nbformat_minor": 2
}
