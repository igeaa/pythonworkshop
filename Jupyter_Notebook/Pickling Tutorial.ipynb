{
 "cells": [
  {
   "cell_type": "markdown",
   "metadata": {},
   "source": [
    "# Intro to Python Pickling \n",
    "\n",
    "## Description \n",
    "\n",
    "Using Python, we can serialize objects like lists and dataframes to store them on disk and access them again later. We do this through _pickling_ them - storing them in a special file format (with file extension .pkl) that allows for reconstruction later. \n",
    "\n",
    "There are two main pickle functions that we will be using:\n",
    "\n",
    "1. pickle.dump(object to be pickled, file object) - for writing an existing object to a pickle file \n",
    "2. pickle.load(file object) - for retrieving a pickled object by reading a pickle file "
   ]
  },
  {
   "cell_type": "markdown",
   "metadata": {
    "collapsed": true
   },
   "source": [
    "## Instructions\n",
    "\n",
    "1. Open a new file and name it workshop_pickle.py\n",
    "2. Copy and paste the following code into your file: "
   ]
  },
  {
   "cell_type": "code",
   "execution_count": null,
   "metadata": {
    "collapsed": true
   },
   "outputs": [],
   "source": [
    "# import pickle library\n",
    "import pickle as pkl\n",
    "\n",
    "# define an example list to pickle \n",
    "ex_list=[1,2,3,4]\n",
    "\n",
    "# define the name of our pickle file \n",
    "fname='list.pkl'\n",
    "\n",
    "# open and write to a file named fname - if file does not exist it is automatically created, 'wb' is 'write in binary'\n",
    "file_pickle=open(fname, 'wb')\n",
    "\n",
    "# pickle the list into the file we are writing to  \n",
    "pickled=pkl.dump(list, file_pickle)\n",
    "\n",
    "# close the file to stop unnecessary resource depletion \n",
    "file_pickle.close() \n",
    "\n",
    "# open and read the pickle file, 'rb' is for 'read in binary'\n",
    "file_opened = open(fname, \"rb\") \n",
    "\n",
    "# load the original list from the pickle file \n",
    "ex_list = pkl.load(file_opened)\n",
    "\n",
    "file_opened.close() # close the file to stop unnecessary resource depletion "
   ]
  }
 ],
 "metadata": {
  "kernelspec": {
   "display_name": "Python 3",
   "language": "python",
   "name": "python3"
  },
  "language_info": {
   "codemirror_mode": {
    "name": "ipython",
    "version": 3
   },
   "file_extension": ".py",
   "mimetype": "text/x-python",
   "name": "python",
   "nbconvert_exporter": "python",
   "pygments_lexer": "ipython3",
   "version": "3.6.2"
  }
 },
 "nbformat": 4,
 "nbformat_minor": 2
}
