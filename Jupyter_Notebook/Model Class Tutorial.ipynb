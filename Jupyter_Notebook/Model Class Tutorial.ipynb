{
 "cells": [
  {
   "cell_type": "markdown",
   "metadata": {},
   "source": [
    "# Model Class Tutorial\n",
    "\n",
    "### Importing packages\n",
    "\n",
    "We start of with importing the packages needed for this program."
   ]
  },
  {
   "cell_type": "code",
   "execution_count": null,
   "metadata": {
    "collapsed": true
   },
   "outputs": [],
   "source": [
    "from sklearn.ensemble import RandomForestClassifier\n",
    "from sklearn.neural_network import MLPClassifier\n",
    "from sklearn.model_selection import train_test_split\n",
    "from sklearn.metrics import confusion_matrix,classification_report\n",
    "from configparser import SafeConfigParser\n",
    "from logger import Logger\n",
    "import pandas as pd\n",
    "import numpy as np\n",
    "import csv\n",
    "import time\n",
    "import sys"
   ]
  },
  {
   "cell_type": "markdown",
   "metadata": {},
   "source": [
    "### Reading the config file\n",
    "\n",
    "After importing the libraries we are going to read the parameters of the neural network we are trying to implement. "
   ]
  },
  {
   "cell_type": "code",
   "execution_count": null,
   "metadata": {
    "collapsed": true
   },
   "outputs": [],
   "source": [
    "config = SafeConfigParser()\n",
    "log = Logger('nn_model.log')\n",
    "config.read('config.ini')\n",
    "sys.setrecursionlimit(10000)\n",
    "\n",
    "hidden_1 = config.getint('NeuralNetConfig','HIDDEN_1')\n",
    "hidden_2 = config.getint('NeuralNetConfig','HIDDEN_2')\n",
    "hidden_3 = config.getint('NeuralNetConfig','HIDDEN_3')\n",
    "hidden_4 = config.getint('NeuralNetConfig','HIDDEN_4')\n",
    "rstate = config.getint('NeuralNetConfig','RSTATE')\n",
    "activationFunc = config.get('NeuralNetConfig','ACTIVATION')\n",
    "m_iter =config.getint('NeuralNetConfig','MAX_ITER')\n",
    "l_rate = config.getfloat('NeuralNetConfig','LEARNING_RATE')\n",
    "ver_bose = config.getboolean('NeuralNetConfig','VERBOSE')\n",
    "\n",
    "t_size = config.getfloat('Misc','TEST_SIZE_1')\n",
    "digit_num = config.getint('Misc','DIGIT_NUM')"
   ]
  },
  {
   "cell_type": "markdown",
   "metadata": {},
   "source": [
    "### Defining the model class constructor\n",
    "\n",
    "Now we will initialize all the model variables and intialize the prediction model using the parameters we got from the config file."
   ]
  },
  {
   "cell_type": "code",
   "execution_count": null,
   "metadata": {
    "collapsed": true
   },
   "outputs": [],
   "source": [
    "def __init__(self):\n",
    "    log.info('Initializing Model.')\n",
    "    self.current_report = None\n",
    "    log.info('Initializing Neural Network.')\n",
    "    self.model =  MLPClassifier(solver='adam', \\\n",
    "        alpha=config.getfloat('NeuralNetConfig','ALPHA'),\\\n",
    "        hidden_layer_sizes=(hidden_1, hidden_2, hidden_3, hidden_4), \\\n",
    "        random_state=rstate, activation=activationFunc, max_iter=m_iter, learning_rate_init=l_rate, verbose=ver_bose)"
   ]
  },
  {
   "cell_type": "markdown",
   "metadata": {},
   "source": [
    "### Implementing the train function\n",
    "\n",
    "We read the csv file from the train_data folder. We get the train file name from the front end."
   ]
  },
  {
   "cell_type": "code",
   "execution_count": null,
   "metadata": {
    "collapsed": true
   },
   "outputs": [],
   "source": [
    "def train(self,filename):\n",
    "    # Read training file into a pandas dataframe\n",
    "    csv_path = 'train_data/' + str(filename)\n",
    "    df = pd.read_csv(csv_path)\n",
    "    classification_report_var = None\n",
    "    X = df.drop('Survived',axis=1)\n",
    "    y = df['Survived']\n",
    "    \n",
    "    # Add split function to split target and features\n",
    "    X_train, X_test, y_train, y_test = train_test_split(X, y, test_size=t_size,random_state=101)\n",
    "    self.model.fit(X_train,y_train)\n",
    "    # Making predictions with X_test, the test data set.\n",
    "    pred = self.model.predict(X_test)\n",
    "    # print(classification_report(y_test,pred,digits=5))\n",
    "    classification_report_var = classification_report(y_test,pred,digits=digit_num)\n",
    "    \n",
    "    # Convert classification report from string to JSON to display properly on web\n",
    "    log.info('Creating classification report in JSON.')\n",
    "    classes = []\n",
    "    lines = classification_report_var.split('\\n')\n",
    "    for line in lines[2:-3]:\n",
    "        row = {}\n",
    "        row_data = line.split()\n",
    "        row['class'] = float(row_data[0])\n",
    "        row['precision'] = float(row_data[1])\n",
    "        row['recall'] = float(row_data[2])\n",
    "        row['f1_score'] = float(row_data[3])\n",
    "        row['support'] = float(row_data[4])\n",
    "        classes.append(row)\n",
    "    temp_row_data = lines[-2].split()\n",
    "    temp_row  = {'precision': temp_row_data[3], 'recall': temp_row_data[4], 'f1_score': temp_row_data[5],\n",
    "                'support': temp_row_data[6]}\n",
    "    classes.append(temp_row)\n",
    "    self.current_report = classes\n",
    "    self.model.fit(X,y)\n",
    "    \n",
    "    # return the report\n",
    "    return self.current_report"
   ]
  },
  {
   "cell_type": "markdown",
   "metadata": {},
   "source": [
    "### Implementing the train method\n",
    "\n",
    "We read the predict file into a pandas dataframe. We get the filename from the front end."
   ]
  },
  {
   "cell_type": "code",
   "execution_count": null,
   "metadata": {
    "collapsed": true
   },
   "outputs": [],
   "source": [
    "def predict(self,filename):\n",
    "    # read the file for prediction\n",
    "    log.info('Prediction sequence started.')\n",
    "    csv_path = 'temp_predict/'+str(filename)\n",
    "    df = pd.read_csv(csv_path)\n",
    "    \n",
    "    # predict\n",
    "    pred = self.model.predict(df)\n",
    "    df_pred = pd.DataFrame(pred,columns=['Predictions'])\n",
    "    \n",
    "    # concatenate the predictions to the original dataframe\n",
    "    final_frame = pd.concat([df_pred,df.drop('Unnamed: 0',axis=1)],axis=1)\n",
    "    \n",
    "    # set filename according to timestamp and return filename\n",
    "    ts = time.time()\n",
    "    ts = int(ts)\n",
    "    ts = str(ts)\n",
    "    filename_path = \"temp_predicted/\"+\"predicted_\" + ts + \".csv\"\n",
    "    filename = \"predicted_\" + ts + \".csv\"\n",
    "    final_frame.to_csv(filename_path)\n",
    "    log.info('Prediction done.')\n",
    "    return filename"
   ]
  },
  {
   "cell_type": "markdown",
   "metadata": {},
   "source": [
    "### Helper method for obtaining the report\n",
    "\n",
    "Just a simple method for sending back the latest classification report when called"
   ]
  },
  {
   "cell_type": "code",
   "execution_count": null,
   "metadata": {
    "collapsed": true
   },
   "outputs": [],
   "source": [
    "def get_report(self):\n",
    "    log.info('Getting current classification report.')\n",
    "    return self.current_report"
   ]
  }
 ],
 "metadata": {
  "kernelspec": {
   "display_name": "Python 3",
   "language": "python",
   "name": "python3"
  },
  "language_info": {
   "codemirror_mode": {
    "name": "ipython",
    "version": 3
   },
   "file_extension": ".py",
   "mimetype": "text/x-python",
   "name": "python",
   "nbconvert_exporter": "python",
   "pygments_lexer": "ipython3",
   "version": "3.6.2"
  }
 },
 "nbformat": 4,
 "nbformat_minor": 2
}
