{
 "cells": [
  {
   "cell_type": "markdown",
   "metadata": {},
   "source": [
    "![cibc_data_studio](cds_logo.png)\n",
    "# Day 1"
   ]
  },
  {
   "cell_type": "markdown",
   "metadata": {
    "collapsed": true
   },
   "source": [
    "# Introduction to Basic Python Syntax\n",
    "![python_logo](python-logo.svg)\n"
   ]
  },
  {
   "cell_type": "markdown",
   "metadata": {},
   "source": [
    "Variable"
   ]
  },
  {
   "cell_type": "code",
   "execution_count": null,
   "metadata": {
    "collapsed": true
   },
   "outputs": [],
   "source": [
    "my_int = 10\n",
    "\n",
    "my_string = \"hello world\"\n",
    "\n",
    "my_other_string = 'hello world'\n",
    "\n",
    "my_boolean = True\n",
    "\n",
    "my_float = 10.1\n",
    "\n",
    "#Print Statements:\n",
    "print('My Print Statement: ')\n",
    "print(my_string)\n"
   ]
  },
  {
   "cell_type": "markdown",
   "metadata": {
    "collapsed": true
   },
   "source": [
    "If Statement"
   ]
  },
  {
   "cell_type": "code",
   "execution_count": null,
   "metadata": {
    "collapsed": true
   },
   "outputs": [],
   "source": [
    "my_boolean = True\n",
    "\n",
    "if 1 > 2:\n",
    "    print(\"Uhoh...\")\n",
    "elif 2 > 1:\n",
    "    print(\"That's right!\")\n",
    "elif my_boolean:\n",
    "    print(\"You should notice something here.\")\n",
    "else:\n",
    "    print(\"Our last resort.\")"
   ]
  },
  {
   "cell_type": "markdown",
   "metadata": {
    "collapsed": true
   },
   "source": [
    "List "
   ]
  },
  {
   "cell_type": "code",
   "execution_count": null,
   "metadata": {
    "collapsed": true
   },
   "outputs": [],
   "source": [
    "# Create a list\n",
    "lst = [1, 2, 3]\n",
    "\n",
    "# print the third element in the list\n",
    "print(lst[2])  \n",
    "print(lst[-1]) "
   ]
  },
  {
   "cell_type": "code",
   "execution_count": null,
   "metadata": {
    "collapsed": true
   },
   "outputs": [],
   "source": [
    "# lists can contain elements of different types\n",
    "lst[2] = 'python'    \n",
    "print(lst)        "
   ]
  },
  {
   "cell_type": "code",
   "execution_count": null,
   "metadata": {
    "collapsed": true
   },
   "outputs": [],
   "source": [
    "# add a new element to the end of the list\n",
    "lst.append('workshop')  \n",
    "print(lst)   "
   ]
  },
  {
   "cell_type": "code",
   "execution_count": null,
   "metadata": {
    "collapsed": true
   },
   "outputs": [],
   "source": [
    "# mutiply lst by 2\n",
    "lst2 = lst * 2\n",
    "print(lst2)"
   ]
  },
  {
   "cell_type": "markdown",
   "metadata": {
    "collapsed": true
   },
   "source": [
    "Array"
   ]
  },
  {
   "cell_type": "code",
   "execution_count": null,
   "metadata": {
    "collapsed": true
   },
   "outputs": [],
   "source": [
    "import numpy as np\n",
    "\n",
    "# Create a rank 1 array\n",
    "a = np.array([4, 5, 6])   \n",
    "\n",
    "# print type\n",
    "print(\"The type of a is \", type(a))   \n",
    "\n",
    "# print shape\n",
    "print(\"The shape of a is \", a.shape) \n",
    "\n",
    "# print elements\n",
    "print(\"The elements of a are \", a)   "
   ]
  },
  {
   "cell_type": "code",
   "execution_count": null,
   "metadata": {
    "collapsed": true
   },
   "outputs": [],
   "source": [
    "# change an element of the array\n",
    "a[1] = 0                 \n",
    "print(\"The new elements of a are \", a) "
   ]
  },
  {
   "cell_type": "code",
   "execution_count": null,
   "metadata": {
    "collapsed": true
   },
   "outputs": [],
   "source": [
    "# mutiply a by 2\n",
    "a2 = a*2\n",
    "print(\"Each number in a was multiplied by 2:  \", a2) "
   ]
  },
  {
   "cell_type": "code",
   "execution_count": null,
   "metadata": {
    "collapsed": true
   },
   "outputs": [],
   "source": [
    "from pprint import pprint\n",
    "\n",
    "# create a rank 2 array\n",
    "b = np.array([[1,2,3], [4,5,6]])  \n",
    "\n",
    "# print shape\n",
    "print(\"The shape of b is \", b.shape) \n",
    "\n",
    "# print elements\n",
    "print(\"The new elements of b are \", )\n",
    "print(b)\n",
    "pprint(b)   "
   ]
  },
  {
   "cell_type": "code",
   "execution_count": null,
   "metadata": {
    "collapsed": true
   },
   "outputs": [],
   "source": [
    "# Print some elements\n",
    "print(\"Some elements of b are\", b[0, 0], b[0, 1], b[1, 0]) "
   ]
  },
  {
   "cell_type": "markdown",
   "metadata": {
    "collapsed": true
   },
   "source": [
    "Loop"
   ]
  },
  {
   "cell_type": "code",
   "execution_count": null,
   "metadata": {
    "collapsed": true
   },
   "outputs": [],
   "source": [
    "# for loop:\n",
    "for i in range(10):\n",
    "    print(i)"
   ]
  },
  {
   "cell_type": "code",
   "execution_count": null,
   "metadata": {
    "collapsed": true
   },
   "outputs": [],
   "source": [
    "# while loop:\n",
    "i = 0\n",
    "while i < 10:\n",
    "    print(i)\n",
    "    i += 1"
   ]
  },
  {
   "cell_type": "markdown",
   "metadata": {
    "collapsed": true
   },
   "source": [
    "Class"
   ]
  },
  {
   "cell_type": "code",
   "execution_count": null,
   "metadata": {
    "collapsed": true
   },
   "outputs": [],
   "source": [
    "class myClass:\n",
    "    def __init__(self):\n",
    "        print(\"This is ran when the class is created. It will only run once.\")\n",
    "\n",
    "    def foo(self):\n",
    "        print(\"Some function\")\n",
    "\n",
    "    def bar(self,integer):\n",
    "        self.integer = integer\n",
    "        print(\"Any variables in self. belongs to the INSTANCE of the class.\")\n",
    "        return integer"
   ]
  },
  {
   "cell_type": "markdown",
   "metadata": {
    "collapsed": true
   },
   "source": [
    "Read Data and Create Dataframe\n"
   ]
  },
  {
   "cell_type": "code",
   "execution_count": null,
   "metadata": {
    "collapsed": true
   },
   "outputs": [],
   "source": [
    "import pandas as pd\n",
    "\n",
    "file = '../sample_data/testProcessed.csv'\n",
    "df = pd.read_csv(file)\n",
    "\n",
    "# Read gzip compressed file: df = pd.read_csv(file, compression = 'gzip')\n",
    "# Read file without headers: df = pd.read_csv(file, header=None)\n",
    "# Set missing values to 0: df = pd.read_csv(file, na_values=0)\n",
    "# Select certain columns if you know the column names before openning the file:\n",
    "# col_names = ['Pclass', 'Sex', 'Age', 'SibSp', 'Parch', 'Fare', 'C', 'Q', 'S']\n",
    "# df = pd.read_csv(file, usecols=col_names)"
   ]
  },
  {
   "cell_type": "code",
   "execution_count": null,
   "metadata": {
    "collapsed": true
   },
   "outputs": [],
   "source": [
    "# See the top rows of the dataframe: \n",
    "df.head()"
   ]
  },
  {
   "cell_type": "code",
   "execution_count": null,
   "metadata": {
    "collapsed": true
   },
   "outputs": [],
   "source": [
    "# Specify useful columns in 3 ways if we DO NOT know the column names before opening the file:\n",
    "\n",
    "# select by postion\n",
    "df_pos = df.iloc[:,1:9] \n",
    "\n",
    "# select by names\n",
    "df_name = df.loc[:, ['Pclass', 'Sex', 'Age', 'SibSp', 'Parch', 'Fare', 'C', 'Q', 'S']] \n",
    "\n",
    "# drop useless column(s)\n",
    "df_drop = df.drop(['Unnamed: 0'], axis=1)"
   ]
  },
  {
   "cell_type": "code",
   "execution_count": null,
   "metadata": {
    "collapsed": true
   },
   "outputs": [],
   "source": [
    "df_pos.head()"
   ]
  },
  {
   "cell_type": "code",
   "execution_count": null,
   "metadata": {
    "collapsed": true
   },
   "outputs": [],
   "source": [
    "df_name.head()"
   ]
  },
  {
   "cell_type": "code",
   "execution_count": null,
   "metadata": {
    "collapsed": true
   },
   "outputs": [],
   "source": [
    "df_drop.head()"
   ]
  },
  {
   "cell_type": "markdown",
   "metadata": {
    "collapsed": true
   },
   "source": [
    "View Data\n"
   ]
  },
  {
   "cell_type": "code",
   "execution_count": null,
   "metadata": {
    "collapsed": true
   },
   "outputs": [],
   "source": [
    "df = df_pos\n",
    "\n",
    "# Display all column names: \n",
    "df.columns"
   ]
  },
  {
   "cell_type": "code",
   "execution_count": null,
   "metadata": {
    "collapsed": true
   },
   "outputs": [],
   "source": [
    "list(df)"
   ]
  },
  {
   "cell_type": "code",
   "execution_count": null,
   "metadata": {
    "collapsed": true
   },
   "outputs": [],
   "source": [
    "print('Number of Columns: ', len(list(df)))"
   ]
  },
  {
   "cell_type": "code",
   "execution_count": null,
   "metadata": {
    "collapsed": true
   },
   "outputs": [],
   "source": [
    "# Check column types\n",
    "df.dtypes"
   ]
  },
  {
   "cell_type": "code",
   "execution_count": null,
   "metadata": {
    "collapsed": true
   },
   "outputs": [],
   "source": [
    "# Shows a quick statistic summary: \n",
    "df.describe()"
   ]
  },
  {
   "cell_type": "code",
   "execution_count": null,
   "metadata": {
    "collapsed": true
   },
   "outputs": [],
   "source": [
    "# Sort by values: \n",
    "df = df.sort_values(['Age', 'Fare'], ascending=[1, 0])\n",
    "df.head()"
   ]
  },
  {
   "cell_type": "markdown",
   "metadata": {
    "collapsed": true
   },
   "source": [
    "Try it now!"
   ]
  },
  {
   "cell_type": "markdown",
   "metadata": {
    "collapsed": true
   },
   "source": [
    "Question: Make a class called add2 that has a function called add() with parameters firstNumber and secondNumber, add them together, then return that value."
   ]
  },
  {
   "cell_type": "code",
   "execution_count": null,
   "metadata": {
    "collapsed": true
   },
   "outputs": [],
   "source": [
    "class add2:\n",
    "    def add(firstNumber, secondNumber):\n",
    "        return firstNumber + secondNumber"
   ]
  },
  {
   "cell_type": "markdown",
   "metadata": {},
   "source": [
    "<--------------------------------------------------------------------------------------------------------------------->"
   ]
  },
  {
   "cell_type": "markdown",
   "metadata": {},
   "source": [
    "## Architecture Overview\n",
    "\n",
    "The image below shows the architecture for the model framework. The framework has two functionalities for the end user:\n",
    "1. The user can upload data and train a machine learning model. \n",
    "2. The user can make predictions for unlabelled data.\n",
    "\n",
    "\n",
    "![Architecture Overview](architecture_sample1.png)\n",
    "\n",
    "The framework comprises the front end and the back end. The front end is built in HTML and javascript. This is the part of the framework that the end user interacts with, i.e., a webpage that the user uses to upload dta and get results. This connects to the backend.\n",
    "\n",
    "The backend is a computing environment that does all the heavy lifting. In our framework, the back end is implemented in Python. Here, the REST API connects the front-end to the machine learning model and database. To execute the use functionalities, the REST API handles training and prediction calls from the front end. The REST API, in turn, takes the data for training or prediction and executes the appropriate functions. Consequently, the results of training and prediction are then passed back to the front end for user consumption.\n",
    "\n",
    "For this workshop, the database is not necessary."
   ]
  },
  {
   "cell_type": "markdown",
   "metadata": {},
   "source": [
    "<--------------------------------------------------------------------------------------------------------------------->"
   ]
  },
  {
   "cell_type": "markdown",
   "metadata": {},
   "source": [
    "# Intro to Configuration Files \n",
    "\n",
    "## Description \n",
    "\n",
    "The purpose of __configuration files__ is to set our initial / default parameter values for the program. A config file is a special-format text file with a .ini file extension.\n",
    "\n",
    "It is organized into sections categorizing each defined property’s purpose.\n",
    "\n",
    "Every config file follows the following format: \n",
    "\n",
    "__Sections__\n",
    "-  must be unique within the _file_\n",
    "-  denoted by square brackets like this: _[SectionName]_ \n",
    "\n",
    "__Key value pairs__\n",
    "-  must be unique keys within the _section_\n",
    "-  formatted like this: _PropertyName=PropertyValue_ \n",
    "\n",
    "__Comments__  \n",
    "-  lines beginning with _#_"
   ]
  },
  {
   "cell_type": "markdown",
   "metadata": {
    "collapsed": true
   },
   "source": [
    "## Instructions\n",
    "\n",
    "__Part 1: Building a config file__ \n",
    "\n",
    "1. Open a new file and name it config.ini\n",
    "2. Copy and paste the following code into your file: "
   ]
  },
  {
   "cell_type": "code",
   "execution_count": null,
   "metadata": {
    "collapsed": true
   },
   "outputs": [],
   "source": [
    "[DownloadFolders]\n",
    "DOWNLOAD_FOLDER=/temp_predicted\n",
    "\n",
    "[PickleFileName]\n",
    "PICKLE_NAME=nn_model.pkl\n",
    "\n",
    "[NeuralNetConfig]\n",
    "ALPHA=1e-5\n",
    "HIDDEN_1=150\n",
    "HIDDEN_2=300\n",
    "HIDDEN_3=300\n",
    "HIDDEN_4=50\n",
    "RSTATE=1\n",
    "MAX_ITER=200\n",
    "LEARNING_RATE=0.001\n",
    "VERBOSE=True\n",
    "ACTIVATION=relu\n",
    "\n",
    "[Misc]\n",
    "TEST_SIZE_1=0.5\n",
    "TEST_SIZE_2=0.4\n",
    "RSTATE_1=101\n",
    "DIGIT_NUM=5"
   ]
  },
  {
   "cell_type": "markdown",
   "metadata": {
    "collapsed": true
   },
   "source": [
    "Now try it yourself! Fill in the _upload folder configuration settings_ at the top of the file.\n",
    "1. Create the section in this format: [SectionName]\n",
    "2. Create the 2 Key-Value pairs in this section following the format: PropertyName=PropertyValue<br>\n",
    "    a. Set the file path location for the prediction upload folder (temp_predict)<br>\n",
    "    b. Set the file path location for the train upload folder (train_data) \n"
   ]
  },
  {
   "cell_type": "markdown",
   "metadata": {},
   "source": [
    "__Part 2: Using a config file__ \n",
    "\n",
    "1. Open a new file and name it workshop_config.py\n",
    "2. Take note of the functions we will be using:"
   ]
  },
  {
   "cell_type": "code",
   "execution_count": null,
   "metadata": {
    "collapsed": true
   },
   "outputs": [],
   "source": [
    "# reading the config file\n",
    "config.read('name of file')\n",
    "\n",
    "# extracting information from config file\n",
    "config.get('section name', 'property name')"
   ]
  },
  {
   "cell_type": "markdown",
   "metadata": {},
   "source": [
    "Now, copy and paste the following code:"
   ]
  },
  {
   "cell_type": "code",
   "execution_count": null,
   "metadata": {
    "collapsed": true
   },
   "outputs": [],
   "source": [
    "# import the library we need\n",
    "from configparser import SafeConfigParser\n",
    "\n",
    "# define the configuration file parsing object\n",
    "config=SafeConfigParser()\n",
    "\n",
    "# read the config file\n",
    "config.read(‘config.ini’)\n",
    "\n",
    "# define variables using values from config file \n",
    "UPLOAD_PRED = config.get('UploadFolders','UPLOAD_FOLDER_PRED')\n",
    "UPLOAD_TRAIN = config.get('UploadFolders','UPLOAD_FOLDER_TRAIN')\n",
    "DOWNLOAD_FOLDER = config.get('DownloadFolders','DOWNLOAD_FOLDER')"
   ]
  },
  {
   "cell_type": "markdown",
   "metadata": {},
   "source": [
    "<--------------------------------------------------------------------------------------------------------------------->"
   ]
  },
  {
   "cell_type": "markdown",
   "metadata": {},
   "source": [
    "# Intro to Python Pickling \n",
    "\n",
    "## Description \n",
    "\n",
    "Using Python, we can serialize objects like lists and dataframes to store them on disk and access them again later. We do this through _pickling_ them - storing them in a special file format (with file extension .pkl) that allows for reconstruction later. \n",
    "\n",
    "There are two main pickle functions that we will be using:\n",
    "\n",
    "1. pickle.dump(object to be pickled, file object) - for writing an existing object to a pickle file \n",
    "2. pickle.load(file object) - for retrieving a pickled object by reading a pickle file "
   ]
  },
  {
   "cell_type": "markdown",
   "metadata": {
    "collapsed": true
   },
   "source": [
    "## Instructions\n",
    "\n",
    "1. Open a new file and name it workshop_pickle.py\n",
    "2. Copy and paste the following code into your file: "
   ]
  },
  {
   "cell_type": "code",
   "execution_count": null,
   "metadata": {
    "collapsed": true
   },
   "outputs": [],
   "source": [
    "# import pickle library\n",
    "import pickle as pkl\n",
    "\n",
    "# define an example list to pickle \n",
    "ex_list=[1,2,3,4]\n",
    "\n",
    "# define the name of our pickle file \n",
    "fname='list.pkl'\n",
    "\n",
    "# open and write to a file named fname - if file does not exist it is automatically created, 'wb' is 'write in binary'\n",
    "file_pickle=open(fname, 'wb')\n",
    "\n",
    "# pickle the list into the file we are writing to  \n",
    "pickled=pkl.dump(list, file_pickle)\n",
    "\n",
    "# close the file to stop unnecessary resource depletion \n",
    "file_pickle.close() \n",
    "\n",
    "# open and read the pickle file, 'rb' is for 'read in binary'\n",
    "file_opened = open(fname, \"rb\") \n",
    "\n",
    "# load the original list from the pickle file \n",
    "ex_list = pkl.load(file_opened)\n",
    "\n",
    "file_opened.close() # close the file to stop unnecessary resource depletion "
   ]
  },
  {
   "cell_type": "markdown",
   "metadata": {},
   "source": [
    "<--------------------------------------------------------------------------------------------------------------------->"
   ]
  },
  {
   "cell_type": "markdown",
   "metadata": {},
   "source": [
    "# Flask Intro\n",
    "\n",
    "Flask is a microsoft framework for Python that allows you to easily create a REST api for hosting Machine Learning Models.\n",
    "\n",
    "Don't worry is you don't know what any of that means yet, Flask is super easy to setup and super fun to use!"
   ]
  },
  {
   "cell_type": "markdown",
   "metadata": {},
   "source": [
    "# I am going to help you get started with Flask."
   ]
  },
  {
   "cell_type": "markdown",
   "metadata": {},
   "source": [
    "## First Things First."
   ]
  },
  {
   "cell_type": "markdown",
   "metadata": {},
   "source": [
    "### The basics of Flask\n",
    "\n",
    "#### Route Headers"
   ]
  },
  {
   "cell_type": "code",
   "execution_count": null,
   "metadata": {
    "collapsed": true
   },
   "outputs": [],
   "source": [
    "@app.route(\"/\")"
   ]
  },
  {
   "cell_type": "markdown",
   "metadata": {},
   "source": [
    "#### Route Functions"
   ]
  },
  {
   "cell_type": "code",
   "execution_count": null,
   "metadata": {
    "collapsed": true
   },
   "outputs": [],
   "source": [
    "def hello():\n",
    "    return \"Hello World\""
   ]
  },
  {
   "cell_type": "markdown",
   "metadata": {},
   "source": [
    "#### Rendering HTML Templates"
   ]
  },
  {
   "cell_type": "code",
   "execution_count": null,
   "metadata": {
    "collapsed": true
   },
   "outputs": [],
   "source": [
    "render_template('my_html_page.html')"
   ]
  },
  {
   "cell_type": "markdown",
   "metadata": {},
   "source": [
    "#### Redirecting to a URL/Route"
   ]
  },
  {
   "cell_type": "code",
   "execution_count": null,
   "metadata": {
    "collapsed": true
   },
   "outputs": [],
   "source": [
    "redirect('/some_url_here')"
   ]
  },
  {
   "cell_type": "markdown",
   "metadata": {},
   "source": [
    "#### Redirecting via function name"
   ]
  },
  {
   "cell_type": "code",
   "execution_count": null,
   "metadata": {
    "collapsed": true
   },
   "outputs": [],
   "source": [
    "redirect(url_for('some_function_name'))"
   ]
  },
  {
   "cell_type": "markdown",
   "metadata": {},
   "source": [
    "#### Request Methods"
   ]
  },
  {
   "cell_type": "code",
   "execution_count": null,
   "metadata": {
    "collapsed": true
   },
   "outputs": [],
   "source": [
    "@app.route(\"/\", methods=['GET','POST'])"
   ]
  },
  {
   "cell_type": "markdown",
   "metadata": {},
   "source": [
    "#### Request Bodies"
   ]
  },
  {
   "cell_type": "code",
   "execution_count": null,
   "metadata": {
    "collapsed": true
   },
   "outputs": [],
   "source": [
    "if request.method == 'GET':\n",
    "    return \"GET request received.\"\n",
    "elif request.method == 'POST':\n",
    "    return redirect(url_for('some_func_post'))"
   ]
  },
  {
   "cell_type": "markdown",
   "metadata": {},
   "source": [
    "#### Session Variable"
   ]
  },
  {
   "cell_type": "code",
   "execution_count": null,
   "metadata": {
    "collapsed": true
   },
   "outputs": [],
   "source": [
    "session['foo'] = 1\n",
    "myVar = session.get('foo')"
   ]
  },
  {
   "cell_type": "markdown",
   "metadata": {},
   "source": [
    "## Hello World Project"
   ]
  },
  {
   "cell_type": "markdown",
   "metadata": {},
   "source": [
    "### Let's work on a simple project to put things together\n",
    "#### Please keep this as we will use this later\n",
    "Store the contents below in a file called \"app.py\""
   ]
  },
  {
   "cell_type": "code",
   "execution_count": null,
   "metadata": {
    "collapsed": true
   },
   "outputs": [],
   "source": [
    "from flask import Flask\n",
    "app = Flask(__name__)\n",
    "\n",
    "@app.route(\"/\")\n",
    "def hello():\n",
    "    return \"Hello World\""
   ]
  },
  {
   "cell_type": "markdown",
   "metadata": {},
   "source": [
    "# Congrats! You just made your first Flask App!\n",
    "### Now we will make a file that will help us set up the server to run this application!\n",
    "\n",
    "Store the contents below in a file called \"run.py\""
   ]
  },
  {
   "cell_type": "code",
   "execution_count": null,
   "metadata": {
    "collapsed": true
   },
   "outputs": [],
   "source": [
    "from gevent.wsgi import WSGIServer\n",
    "from app import app\n",
    "app.debug = True\n",
    "WSGIServer(('', 5000), app).serve_forever()"
   ]
  },
  {
   "cell_type": "markdown",
   "metadata": {},
   "source": [
    "The above code imports a library called WSGIServer, then uses it to set up a web server on your local machine.\n",
    "To run the application now simply copy the below code and run it in your python terminal or IDE"
   ]
  },
  {
   "cell_type": "code",
   "execution_count": null,
   "metadata": {
    "collapsed": true
   },
   "outputs": [],
   "source": [
    "python run.py"
   ]
  },
  {
   "cell_type": "markdown",
   "metadata": {},
   "source": [
    "# Now you are ready to access your app from your browser!\n",
    "\n",
    "Click this!\n",
    "<br>\n",
    "[localhost:5000](http://localhost:5000)"
   ]
  },
  {
   "cell_type": "markdown",
   "metadata": {},
   "source": [
    "<--------------------------------------------------------------------------------------------------------------------->"
   ]
  },
  {
   "cell_type": "markdown",
   "metadata": {},
   "source": [
    "### Introduction to Logging\n",
    "\n",
    "Create a new Python file and paste all the code over there and save it as filename logger.py"
   ]
  },
  {
   "cell_type": "code",
   "execution_count": null,
   "metadata": {
    "collapsed": true
   },
   "outputs": [],
   "source": [
    "import sys, os\n",
    "import logging\n",
    "from logging.handlers import TimedRotatingFileHandler\n",
    "\n",
    "class Logger:\n",
    "    # class member constants\n",
    "    DEBUG = logging.DEBUG\n",
    "    INFO = logging.INFO\n",
    "    NONE = logging.NOTSET\n",
    "    def __init__(self, fileName, level=logging.INFO, format = \"%(asctime)s - %(levelname)s - %(message)s\"):\n",
    "        # add log directory if it doesn't already exist\n",
    "        path = '{0}/logs'.format(os.getcwd())\n",
    "        if not os.path.exists(path):\n",
    "            os.makedirs(path)\n",
    "\n",
    "       # make sure file eists\n",
    "        open('logs/'+fileName, 'a').close()\n",
    "        \n",
    "       # set the appropriate settings for the logger\n",
    "        self.logger = logging.getLogger(fileName)\n",
    "        self.logger.setLevel(logging.INFO)\n",
    "        formatter = logging.Formatter(format)\n",
    "        \n",
    "\n",
    "        self.file_handler = TimedRotatingFileHandler(\"logs/\" + fileName,\n",
    "                                       when='D',\n",
    "                                       interval=1,\n",
    "                                       backupCount=30)\n",
    "        self.file_handler.setFormatter(formatter)\n",
    "        console_handler = logging.StreamHandler()\n",
    "        console_handler.setFormatter(formatter)\n",
    "        \n",
    "       # add the file and console logging handlers to the logger\n",
    "        self.logger.addHandler(self.file_handler)\n",
    "        self.logger.addHandler(console_handler)\n",
    "\n",
    "    def info(self, message):\n",
    "        self.logger.info(message)\n",
    "\n",
    "    def error(self, message):\n",
    "        self.logger.error(message)\n",
    "    \n",
    "    def warn(self, message):\n",
    "        self.logger.warning(message)"
   ]
  },
  {
   "cell_type": "markdown",
   "metadata": {},
   "source": [
    "### Integrating with the Hello world applications\n",
    "\n",
    "These log messages can be added anywhere in the program as we proceed. "
   ]
  },
  {
   "cell_type": "code",
   "execution_count": null,
   "metadata": {
    "collapsed": true
   },
   "outputs": [],
   "source": [
    "# Import the class we made to the hello world application\n",
    "from logger import Logger\n",
    "\n",
    "# Instantiate the class with the filename you want\n",
    "log = Logger('Testlog')\n",
    "\n",
    "# info log\n",
    "log.info('This is an info log')\n",
    "\n",
    "# error log\n",
    "log.error('This is an info log')\n",
    "\n",
    "# warn log\n",
    "log.warn('This is an info log')"
   ]
  },
  {
   "cell_type": "markdown",
   "metadata": {},
   "source": [
    "<--------------------------------------------------------------------------------------------------------------------->"
   ]
  },
  {
   "cell_type": "markdown",
   "metadata": {},
   "source": [
    "# Introduction to HTML\n",
    "\n",
    "## HTML is the language used to create the websites you visit everyday. It provides a logical way to structure content for websites.\n",
    "\n",
    "    i. A markup language is a computer language that defines the structure and presentation of raw text. Markup languages work by surrounding raw text with information the computer can interpret, \"marking it up\" to be processed.\n",
    "\n",
    "    ii. In HTML, the computer can interpret raw text that is wrapped in HTML elements. These elements are often nested inside one another, with each containing information about the type and structure of the information to be displayed in the browser.\n",
    "\n",
    "    iii. HyperText is text displayed on a computer or device that provides access to other text through links, also known as “hyperlinks.”"
   ]
  },
  {
   "cell_type": "markdown",
   "metadata": {},
   "source": [
    "## There are 3 languages all web developers must learn:\n",
    "\n",
    "### 1. HTML: to define the content of web pages (Structure)\n",
    "\n",
    "### 2. CSS: to specify the layout of web pages (Design)\n",
    "\n",
    "### 3. JavaScript: to program the behavior of web pages (Function)"
   ]
  },
  {
   "cell_type": "markdown",
   "metadata": {},
   "source": [
    "## Components of HTML\n",
    "\n",
    "### Tags - [Tags Example](https://www.w3schools.com/tags/default.asp)\n",
    "    <html> - Defines the root of an HTML document\n",
    "    <head> - A container for all the head elements (title, scripts, styles, meta information, and more)\n",
    "    <body> - Defines the document's body\n",
    "    <h> - Defines HTML headings\n",
    "    <p> - Defines a paragraph\n",
    "    <a> - Defines a hyperlink\n",
    "    <br> - Inserts a single line break\n",
    "    <img> - Defines an image\n",
    "    <strong> - Defines important text\n",
    "    <small> - Defines smaller text\n",
    "    <i> - Defines italic text\n",
    "    <b> - Defines bold text\n",
    "    <link> - Defines a link between a document and an external resource\n",
    "    <style> - Defines style information for an HTML document\n",
    "\n",
    "### Attributes - [Attributes Example](https://www.w3schools.com/tags/ref_attributes.asp)\n",
    "    alt - Specifies an alternative text for an image, when the image cannot be displayed\n",
    "    disabled - Specifies that an input element should be disabled\n",
    "    href - Specifies the URL (web address) for a link\n",
    "    id - Specifies a unique id for an element\n",
    "    src - Specifies the URL (web address) for an image\n",
    "    style - Specifies an inline CSS style for an element\n",
    "    title - Specifies extra information about an element (displayed as a tool tip)"
   ]
  },
  {
   "cell_type": "markdown",
   "metadata": {},
   "source": [
    "## Components of JavaScript\n",
    "\n",
    "### Properties and Methods - [JavaScript Reference](https://www.w3schools.com/jsref/default.asp)\n",
    "    var carname = \"Honda Civic\";\n",
    "    var pi = 3.14;\n",
    "    onclick - The event occurs when the user clicks on an element\n",
    "    alert() - Displays an alert box with a message and an OK button\n",
    "    document.getElementById() - Returns the element that has the ID attribute with the specified value\n",
    "    \n",
    "-Code Example-\n",
    "\n",
    "```javascript\n",
    "<!DOCTYPE html>\n",
    "<html>\n",
    "<body>\n",
    "\n",
    "<h1>My Web Page</h1>\n",
    "\n",
    "<p>My first name is: </p> <p id=\"first_name\"> XXXXXXX </p>\n",
    "<p>My last name is: </p> <p id=\"last_name\"> YYYYYYY </p>\n",
    "\n",
    "<script>\n",
    "document.getElementById(\"first_name\").innerHTML = \"Dolly\";\n",
    "document.getElementById(\"last_name\").innerHTML = \"McDavidson\";\n",
    "</script>\n",
    "\n",
    "</body>\n",
    "</html>\n",
    "```\n"
   ]
  },
  {
   "cell_type": "markdown",
   "metadata": {},
   "source": [
    "## Predict\n",
    "### Web view\n",
    "![Web_Preview](html_sample3.png)\n",
    "\n",
    "### index_Train.html Code View\n",
    "```html\n",
    "<!DOCTYPE html>\n",
    "<html lang=\"en\" class=\"no-js\">\n",
    "\t<head>\n",
    "\t\t<meta charset=\"UTF-8\" />\n",
    "\t\t<meta http-equiv=\"X-UA-Compatible\" content=\"IE=edge\">\n",
    "\t\t<meta name=\"viewport\" content=\"width=device-width, initial-scale=1\">\n",
    "\t\t<title>CIBC Learning Session</title>\n",
    "\t\t<link rel=\"shortcut icon\" href=\"cibc.ico\">\n",
    "        <link href=\"https://fonts.googleapis.com/css?family=Raleway:300,400\" rel=\"stylesheet\">\n",
    "        <link rel=\"stylesheet\" href=\"../static/component.css\" type=\"text/css\">\n",
    "        <link href=\"https://fonts.googleapis.com/css?family=Raleway:300,400\" rel=\"stylesheet\">\n",
    "        \n",
    "        <style type=\"text/css\">\n",
    "            .foo{\n",
    "                font-size: 20px;\n",
    "                font-weight: 600;\n",
    "            }\n",
    "            div.demo {\n",
    "                display: table;\n",
    "                width: 100%;\n",
    "                table-layout: fixed;    /* For cells of equal size */\n",
    "            }\n",
    "            div.demo span {\n",
    "                display: table-cell;\n",
    "                text-align: center;\n",
    "            }\n",
    "        </style>\n",
    "        \n",
    "\t\t<script>(function(e,t,n){var r=e.querySelectorAll(\"html\")[0];r.className=r.className.replace(/(^|\\s)no-js(\\s|$)/,\"$1js$2\")})(document,window,0);</script>\n",
    "\t</head>\n",
    "\t<div class=\"Logo\">\n",
    "        <h1 class=\"hTitle1\">Admin Console</h1>\n",
    "        <br>\n",
    "        <br>\n",
    "\t</div>\n",
    "\t<body>\n",
    "\t\t<div class=\"container\">\n",
    "            <div id=\"toHide\" class=\"content\">\n",
    "                <div class=\"box\" align=\"center\">\n",
    "                    <form action=\"\" method=post enctype=multipart/form-data>\n",
    "                       <input type=file name=file id=\"csv_file\" class=\"inputfile inputfile1\" accept=\".csv\"/>\n",
    "                       <label for=\"csv_file\"><figure><svg xmlns=\"http://www.w3.org/2000/svg\" width=\"20\" height=\"17\" viewBox=\"0 0 20 17\"><path d=\"M10 0l-5.2 4.9h3.3v5.1h3.8v-5.1h3.3l-5.2-4.9zm9.3 11.5l-3.2-2.1h-2l3.4 2.6h-3.5c-.1 0-.2.1-.2.1l-.8 2.3h-6l-.8-2.2c-.1-.1-.1-.2-.2-.2h-3.6l3.4-2.6h-2l-3.2 2.1c-.4.3-.7 1-.6 1.5l.6 3.1c.1.5.7.9 1.2.9h16.3c.6 0 1.1-.4 1.3-.9l.6-3.1c.1-.5-.2-1.2-.7-1.5z\"/></svg></figure> <span>Choose a file</span></label>\n",
    "                        <br>\n",
    "                        <br>\n",
    "                        <br>\n",
    "                        <input class=\"positive_Button\" type=\"submit\" value=\"Train\">\n",
    "                        <input type=\"submit\" value=\"Change Model\" name=\"change\"/>\n",
    "                    </form>\n",
    "                </div>\n",
    "            </div>\n",
    "        </div>\n",
    "        <script>\n",
    "            var errorOcurred = '{{ errorOcurred }}';\n",
    "            var errorInfo = '{{ errorInfo }}';\n",
    "            var modelchange = '{{ modelChanged }}';\n",
    "            var errorBool = errorOcurred == 'True';\n",
    "            \n",
    "            if (modelchange == 'True'){\n",
    "                window.alert('Model change occurred. Retraining model if there is training data.')\n",
    "            }\n",
    "            if (errorBool){\n",
    "                window.alert(errorInfo);\n",
    "            }\n",
    "        </script>\n",
    "\n",
    "        <form action=\"/predict\">\n",
    "            <input class=\"Admin_Button\" value=\"Go To Predict\" type=\"submit\">\n",
    "        </form>\n",
    "\n",
    "        <footer>\n",
    "            <p class=\"random\">For Questions, Please <b>RAISE YOUR HANDS!</b></p>\n",
    "        </footer>\n",
    "\n",
    "\t\t<script src=\"../static/custom-file-input.js\"></script>\n",
    "\t\t<script src=\"../static/upload.js\"></script>\n",
    "\n",
    "\t</body>\n",
    "</html>\n",
    "```"
   ]
  },
  {
   "cell_type": "markdown",
   "metadata": {},
   "source": [
    "## Integrating web application with HTML/Javascript\n",
    "\n",
    "### Let’s explore how we combine HTML and JavaScript with application.\n",
    "\n",
    "![Train_result](html_sample6.png)\n",
    "[Link to Train Result Code](Train_result.html)\n",
    "\n",
    "![JS_sample](html_sample5.png)\n"
   ]
  },
  {
   "cell_type": "markdown",
   "metadata": {},
   "source": [
    "## Activity - Hello world, My name is Percy the Penguin\n",
    "### Create your own simple HTML page with the image below inserted.\n",
    "[Percy_Image](https://media.licdn.com/media-proxy/ext?w=800&h=800&hash=phXTkZYZ3vo6HRQzq%2BY2ia%2FWyDw%3D&ora=1%2CaFBCTXdkRmpGL2lvQUFBPQ%2CxAVta5g-0R6igBdX0hI2raqOukG860ZDRIDQBy33Ann_ucvDY2m4JJaVJuzw4x4IK3NcjwUwfOa3EWbpG5e1f4O8L4l3j5WwIJm2PlZeOR5u1mwdv4dibk1qpZqh)"
   ]
  },
  {
   "cell_type": "markdown",
   "metadata": {},
   "source": [
    "index.html\n",
    "```html\n",
    "<!DOCTYPE html>\n",
    "\t<html>\n",
    "\t\t<body>\n",
    "\n",
    "\t\t\t<h1>YOUR_NAME Web Page</h1>\n",
    "\n",
    "\t\t\t<p>My first name is: </p>\n",
    "\t\t\t<p id=\"first_name\"> XXXXXXX </p>\n",
    "\t\t\t\n",
    "\t\t\t<p>My last name is: </p>\n",
    "\t\t\t<p id=\"last_name\"> YYYYYYY </p>\n",
    "\n",
    "\t\t\t<img src=\"https://media.licdn.com/media-proxy/ext?w=800&h=800&hash=phXTkZYZ3vo6HRQzq%2BY2ia%2FWyDw%3D&ora=1%2CaFBCTXdkRmpGL2lvQUFBPQ%2CxAVta5g-0R6igBdX0hI2raqOukG860ZDRIDQBy33Ann_ucvDY2m4JJaVJuzw4x4IK3NcjwUwfOa3EWbpG5e1f4O8L4l3j5WwIJm2PlZeOR5u1mwdv4dibk1qpZqh\" alt=\"Percy\" style=\"width:200px;height:400px;\">\n",
    "\n",
    "\t\t\t<script>\n",
    "\t\t\t\tdocument.getElementById(\"first_name\").innerHTML = \"\";\n",
    "\t\t\t\tdocument.getElementById(\"last_name\").innerHTML = \"\";\n",
    "\t\t\t</script>\n",
    "\n",
    "\t\t</body>\n",
    "</html>\n",
    "```"
   ]
  },
  {
   "cell_type": "markdown",
   "metadata": {},
   "source": [
    "-Flask with HTML-\n",
    "\n",
    "app_web.py\n",
    "```python3\n",
    "from flask import Flask, render_template\n",
    "\n",
    "app_web = Flask(__name__)\n",
    "\n",
    "@app_web.route('/')\n",
    "def percy_html():\n",
    "    return render_template('index.html')\n",
    "```\n",
    "\n",
    "run \"python run_web.py\":\n",
    "```python3\n",
    "from gevent.wsgi import WSGIServer\n",
    "from app_web import app_web\n",
    "\n",
    "app_web.debug = True\n",
    "WSGIServer(('', 5000), app_web).serve_forever()\n",
    "```"
   ]
  },
  {
   "cell_type": "markdown",
   "metadata": {},
   "source": [
    "<--------------------------------------------------------------------------------------------------------------------->"
   ]
  },
  {
   "cell_type": "markdown",
   "metadata": {},
   "source": [
    "# Day 2"
   ]
  },
  {
   "cell_type": "markdown",
   "metadata": {},
   "source": [
    "# Model Class Tutorial\n",
    "\n",
    "### Creating a model class file\n",
    "\n",
    "We will make a new python file called NN_model.py. We will add all the code step by step as we move forward with this part of the tutorial.\n",
    "\n",
    "### Class Frame\n",
    "\n",
    "The class frame is present in the csv file and is called nn_model.py. It contains a wire frame of the class we will be implementing for interacting with the machine learning model.\n",
    "\n",
    "We will be filling in the constructor and functions as we move forward with the tutorial."
   ]
  },
  {
   "cell_type": "code",
   "execution_count": null,
   "metadata": {
    "collapsed": true
   },
   "outputs": [],
   "source": [
    "class NN_model:\n",
    "\n",
    "    #This is where the model is initialized\n",
    "    def __init__(self):\n",
    "\n",
    "    #This method will get the model class' report\n",
    "    def get_report(self):\n",
    "\n",
    "    #This method will train the model in the model class\n",
    "    def train(self,filename):\n",
    "\n",
    "    #This method will do the predictions\n",
    "    def predict(self,filename):"
   ]
  },
  {
   "cell_type": "markdown",
   "metadata": {},
   "source": [
    "### Importing packages\n",
    "\n",
    "We start of with importing the packages needed for this program.\n",
    "\n",
    "Scikit-learn(skelarn) is a popular open source machine learning library built for python.\n",
    "\n",
    "<ul> \n",
    "<li> RandomForestClassifier - imports the library that implements the Random forest classifier algorithm\n",
    "<li> train_test_split - a simple library for splitting the entire dataset for traning and testing the model\n",
    "<li> classification_report - uses our prediction results to generate a report to assess the accuracy of the prediction model\n",
    "<li> SafeConfigParser - library that is used for reading config files (extension - ini)\n",
    "<li> Logger - Imports the logger class\n",
    "</ul>"
   ]
  },
  {
   "cell_type": "code",
   "execution_count": null,
   "metadata": {
    "collapsed": true
   },
   "outputs": [],
   "source": [
    "from sklearn.neural_network import MLPClassifier\n",
    "from sklearn.model_selection import train_test_split\n",
    "from sklearn.metrics import confusion_matrix,classification_report\n",
    "from configparser import SafeConfigParser\n",
    "from logger import Logger\n",
    "import pandas as pd\n",
    "import numpy as np\n",
    "import csv\n",
    "import time\n",
    "import sys"
   ]
  },
  {
   "cell_type": "markdown",
   "metadata": {},
   "source": [
    "### Reading the config file\n",
    "\n",
    "After importing the libraries we are going to read the parameters of the neural network we are trying to implement. "
   ]
  },
  {
   "cell_type": "code",
   "execution_count": null,
   "metadata": {
    "collapsed": true
   },
   "outputs": [],
   "source": [
    "# instantiate cofig class and open\n",
    "config = SafeConfigParser()\n",
    "config.read('config.ini')\n",
    "\n",
    "# create log file\n",
    "log = Logger('nn_model.log')\n",
    "sys.setrecursionlimit(10000)\n",
    "\n",
    "# import neural net parameters\n",
    "hidden_1 = config.getint('NeuralNetConfig','HIDDEN_1')\n",
    "hidden_2 = config.getint('NeuralNetConfig','HIDDEN_2')\n",
    "hidden_3 = config.getint('NeuralNetConfig','HIDDEN_3')\n",
    "hidden_4 = config.getint('NeuralNetConfig','HIDDEN_4')\n",
    "rstate = config.getint('NeuralNetConfig','RSTATE')\n",
    "activationFunc = config.get('NeuralNetConfig','ACTIVATION')\n",
    "m_iter =config.getint('NeuralNetConfig','MAX_ITER')\n",
    "l_rate = config.getfloat('NeuralNetConfig','LEARNING_RATE')\n",
    "ver_bose = config.getboolean('NeuralNetConfig','VERBOSE')\n",
    "\n",
    "# other random magic numbers\n",
    "t_size = config.getfloat('Misc','TEST_SIZE_1')\n",
    "digit_num = config.getint('Misc','DIGIT_NUM')"
   ]
  },
  {
   "cell_type": "markdown",
   "metadata": {},
   "source": [
    "### Defining the model class constructor\n",
    "\n",
    "Now we will initialize all the model variables and intialize the prediction model using the parameters we got from the config file."
   ]
  },
  {
   "cell_type": "code",
   "execution_count": null,
   "metadata": {
    "collapsed": true
   },
   "outputs": [],
   "source": [
    "def __init__(self):\n",
    "    log.info('Initializing Model.')\n",
    "    self.current_report = None\n",
    "    log.info('Initializing Neural Network.')\n",
    "    self.model =  MLPClassifier(solver='adam', \\\n",
    "        alpha=config.getfloat('NeuralNetConfig','ALPHA'),\\\n",
    "        hidden_layer_sizes=(hidden_1, hidden_2, hidden_3, hidden_4), \\\n",
    "        random_state=rstate, activation=activationFunc, max_iter=m_iter, learning_rate_init=l_rate, verbose=ver_bose)"
   ]
  },
  {
   "cell_type": "markdown",
   "metadata": {},
   "source": [
    "### Implementing the train function\n",
    "\n",
    "We read the csv file from the train_data folder. We get the train file name from the front end."
   ]
  },
  {
   "cell_type": "code",
   "execution_count": null,
   "metadata": {
    "collapsed": true
   },
   "outputs": [],
   "source": [
    "def train(self,filename):\n",
    "    \n",
    "    # Read training file into a pandas dataframe\n",
    "    csv_path = 'train_data/' + str(filename)\n",
    "    df = pd.read_csv(csv_path)\n",
    "    X = df.drop('Survived',axis=1)\n",
    "    y = df['Survived']\n",
    "    \n",
    "    # Add split function to split target and features\n",
    "    X_train, X_test, y_train, y_test = train_test_split(X, y, test_size=t_size,random_state=101)\n",
    "    \n",
    "    # Train the model now using the split training set\n",
    "    self.model.fit(X_train,y_train)\n",
    "    \n",
    "    # Making predictions with X_test, the test data set.\n",
    "    pred = self.model.predict(X_test)\n",
    "    \n",
    "    # Generate classification report\n",
    "    # print(classification_report(y_test,pred,digits=5))\n",
    "    classification_report_var = classification_report(y_test,pred,digits=digit_num)\n",
    "    \n",
    "    # Convert classification report from string to JSON to display properly on web\n",
    "    log.info('Creating classification report in JSON.')\n",
    "    classes = []\n",
    "    lines = classification_report_var.split('\\n')\n",
    "    for line in lines[2:-3]:\n",
    "        row = {}\n",
    "        row_data = line.split()\n",
    "        row['class'] = float(row_data[0])\n",
    "        row['precision'] = float(row_data[1])\n",
    "        row['recall'] = float(row_data[2])\n",
    "        row['f1_score'] = float(row_data[3])\n",
    "        row['support'] = float(row_data[4])\n",
    "        classes.append(row)\n",
    "    temp_row_data = lines[-2].split()\n",
    "    temp_row  = {'precision': temp_row_data[3], 'recall': temp_row_data[4], 'f1_score': temp_row_data[5],\n",
    "                'support': temp_row_data[6]}\n",
    "    classes.append(temp_row)\n",
    "    self.current_report = classes\n",
    "    \n",
    "    # Train model again, this time with the full dataset\n",
    "    self.model.fit(X,y)\n",
    "    \n",
    "    # return the report\n",
    "    return self.current_report"
   ]
  },
  {
   "cell_type": "markdown",
   "metadata": {},
   "source": [
    "### Implementing the predict method\n",
    "\n",
    "We read the predict file into a pandas dataframe. We get the filename from the front end."
   ]
  },
  {
   "cell_type": "code",
   "execution_count": null,
   "metadata": {
    "collapsed": true
   },
   "outputs": [],
   "source": [
    "def predict(self,filename):\n",
    "    \n",
    "    # read the file for prediction in a pandas dataframe\n",
    "    log.info('Prediction sequence started.')\n",
    "    csv_path = 'temp_predict/'+str(filename)\n",
    "    df = pd.read_csv(csv_path)\n",
    "    \n",
    "    # predict\n",
    "    pred = self.model.predict(df)\n",
    "    df_pred = pd.DataFrame(pred,columns=['Predictions'])\n",
    "    \n",
    "    # concatenate the predictions to the original dataframe\n",
    "    final_frame = pd.concat([df_pred,df.drop('Unnamed: 0',axis=1)],axis=1)\n",
    "    \n",
    "    # set filename according to timestamp and return filename\n",
    "    ts = time.time()\n",
    "    ts = int(ts)\n",
    "    ts = str(ts)\n",
    "    filename_path = \"temp_predicted/\"+\"predicted_\" + ts + \".csv\"\n",
    "    filename = \"predicted_\" + ts + \".csv\"\n",
    "    final_frame.to_csv(filename_path)\n",
    "    log.info('Prediction done.')\n",
    "    return filename"
   ]
  },
  {
   "cell_type": "markdown",
   "metadata": {},
   "source": [
    "### Helper method for obtaining the report\n",
    "\n",
    "Just a simple method for sending back the latest classification report when called"
   ]
  },
  {
   "cell_type": "code",
   "execution_count": null,
   "metadata": {
    "collapsed": true
   },
   "outputs": [],
   "source": [
    "def get_report(self):\n",
    "    log.info('Getting current classification report.')\n",
    "    return self.current_report"
   ]
  },
  {
   "cell_type": "markdown",
   "metadata": {},
   "source": [
    "<-------------------------------------------------------------------------------------------------------------------->"
   ]
  },
  {
   "cell_type": "markdown",
   "metadata": {},
   "source": [
    "# Flask API\n",
    "\n",
    "We are going to build the Flask Python App that will make use of our neural network Python class.\n",
    "\n",
    "Let's first create a file called app.py.\n",
    "\n",
    "To get started, let's import some of the libraries we are going to use."
   ]
  },
  {
   "cell_type": "code",
   "execution_count": null,
   "metadata": {
    "collapsed": true
   },
   "outputs": [],
   "source": [
    "from flask import Flask, redirect, render_template, request, session, url_for, send_from_directory, jsonify\n",
    "from nn_model import NN_model\n",
    "from rr_model import RR_model\n",
    "from werkzeug import secure_filename\n",
    "from configparser import SafeConfigParser\n",
    "from logger import Logger\n",
    "import pickle as pkl\n",
    "import os"
   ]
  },
  {
   "cell_type": "markdown",
   "metadata": {},
   "source": [
    "Most of these libraries come with the Anaconda and/or Python installation package, but there are some libraries such as Flask and werkzeug you will have to download yourself."
   ]
  },
  {
   "cell_type": "markdown",
   "metadata": {},
   "source": [
    "### Logger Setup\n",
    "\n",
    "Let's setup our logger, in this case the logger is directing all the log lines to main_app.log. It is always good practice to name your log files with heart otherwise it will be very hard to debug."
   ]
  },
  {
   "cell_type": "code",
   "execution_count": null,
   "metadata": {
    "collapsed": true
   },
   "outputs": [],
   "source": [
    "log = Logger('main_app.log')\n",
    "log.info('Starting Application')"
   ]
  },
  {
   "cell_type": "markdown",
   "metadata": {},
   "source": [
    "### Reading from a config file\n",
    "\n",
    "Config files are to help you to give meaning to the \"magic\" numbers you defined for your model or class. You can think of it as a global variable that is read from a file with the extension of .ini"
   ]
  },
  {
   "cell_type": "code",
   "execution_count": null,
   "metadata": {
    "collapsed": true
   },
   "outputs": [],
   "source": [
    "config = SafeConfigParser()\n",
    "config.read('config.ini')\n",
    "UPLOAD_FOLDER = config.get('UploadFolders','UPLOAD_FOLDER_PRED')\n",
    "UPLOAD_FOLDER_TRAIN = config.get('UploadFolders','UPLOAD_FOLDER_TRAIN')\n",
    "DOWNLOAD_FOLDER = config.get('DownloadFolders','DOWNLOAD_FOLDER')\n",
    "ALLOWED_EXT = set(['csv'])"
   ]
  },
  {
   "cell_type": "markdown",
   "metadata": {
    "collapsed": true
   },
   "source": [
    "### Setting Flask Variables\n",
    "\n",
    "Flask variables are needed to run the app successfully. In the code below, the Flask app is declared and the upload folder for any file is specified.\n",
    "You should notice there is a secret key. The secret key is needed for implementing accounts for login, so you can remove it if you are not planning to implement login functions."
   ]
  },
  {
   "cell_type": "code",
   "execution_count": null,
   "metadata": {
    "collapsed": true
   },
   "outputs": [],
   "source": [
    "app = Flask(__name__)\n",
    "app.config['UPLOAD_FOLDER'] = UPLOAD_FOLDER\n",
    "app.secret_key = os.urandom(12)"
   ]
  },
  {
   "cell_type": "markdown",
   "metadata": {},
   "source": [
    "### Setting up Model variables\n",
    "\n",
    "The variables we are going to set are global variables used to store the active model, temporary model, and the secondary model."
   ]
  },
  {
   "cell_type": "code",
   "execution_count": null,
   "metadata": {
    "collapsed": true
   },
   "outputs": [],
   "source": [
    "model = None\n",
    "temp_model = None\n",
    "secondary_model = None"
   ]
  },
  {
   "cell_type": "markdown",
   "metadata": {},
   "source": [
    "### Pickling Setup\n",
    "\n",
    "In the below lines, a pickle file name is decided then we check if there is an existing pickle file with that name. If there is one, we initialize our active model with that pickle file, if not we create a brand new model class."
   ]
  },
  {
   "cell_type": "code",
   "execution_count": null,
   "metadata": {
    "collapsed": true
   },
   "outputs": [],
   "source": [
    "fname = 'nn_model.pkl'\n",
    "if os.path.isfile(fname):\n",
    "\tfile_opened = open(fname, \"rb\")\n",
    "\tmodel = pkl.load(file_opened)\n",
    "\tfile_opened.close()\n",
    "else:\n",
    "\tmodel = NN_model()"
   ]
  },
  {
   "cell_type": "markdown",
   "metadata": {},
   "source": [
    "# Now this is where the meat and patatoes of the app is. We are going to implement the functions that our HTML will call to interact with our model\n",
    "\n",
    "## Flask Route Setup Part 1\n",
    "\n",
    "In this part we are going to setup some functions to help us do the initial redirect and to download the files."
   ]
  },
  {
   "cell_type": "code",
   "execution_count": null,
   "metadata": {
    "collapsed": true
   },
   "outputs": [],
   "source": [
    "@app.route('/')\n",
    "def home():\n",
    "\tsession['changedmodel'] = 'False'\n",
    "\treturn redirect(url_for('index_train'))\n",
    "\n",
    "@app.route('/download', methods=['GET'])\n",
    "def download(filename_1):\n",
    "\ttry:\n",
    "\t\tabs_path = app.root_path + DOWNLOAD_FOLDER\n",
    "\t\treturn send_from_directory(abs_path,filename=filename_1,as_attachment=True)\n",
    "\texcept:\n",
    "\t\terrorString = 'Unable to download file'\n",
    "\t\treturn render_template('predict_submission.html',errorOcurred='True',errorInfo=errorString)\n",
    "\treturn render_tempalte('predict_submission.html')\n",
    "\t\n",
    "\n"
   ]
  },
  {
   "cell_type": "markdown",
   "metadata": {},
   "source": [
    "The home function is for the initial redirect as we made custom URL for each function. THe download function takes a file name as parameter and downloads that file from the selected path as an attachment"
   ]
  },
  {
   "cell_type": "markdown",
   "metadata": {},
   "source": [
    "## Flask Route Setup Part 2\n",
    "\n",
    "In this part we are going to set up the changing model mechanism. It simply takes the active model, change that to the secondary_model, then change the secondary_model to the active model."
   ]
  },
  {
   "cell_type": "code",
   "execution_count": null,
   "metadata": {
    "collapsed": true
   },
   "outputs": [],
   "source": [
    "@app.route('/change_model',methods=['GET','POST'])\n",
    "def change_model():\n",
    "\tglobal model, temp_model,secondary_model\n",
    "\tsession['changedmodel'] = 'True'\n",
    "\tif secondary_model is not None:\n",
    "\t\ttemp = secondary_model\n",
    "\t\tsecondary_model = model\n",
    "\t\tmodel = temp\n",
    "\telse:\n",
    "\t\tsecondary_model = model\n",
    "\t\tmodel = RR_model()\n",
    "\treturn redirect(url_for('index_train'))\n",
    "\n"
   ]
  },
  {
   "cell_type": "markdown",
   "metadata": {},
   "source": [
    "## Flask Route Setup Part 3\n",
    "\n",
    "In this part, we are going to implement the predictions function. The predict function will check if the file meets the requirements to be sent to the model class. Once everything checks out it will save the uploaded file and then pass it to the model class method, where it is then downloaded."
   ]
  },
  {
   "cell_type": "code",
   "execution_count": null,
   "metadata": {
    "collapsed": true
   },
   "outputs": [],
   "source": [
    "@app.route('/predict',methods=['GET'])\n",
    "def predict():\n",
    "\tif request.method == 'POST' and request.files['file']:\n",
    "\t\tfile_to_process = request.files['file']\n",
    "\t\tfilename = secure_filename(file_to_process.filename)\n",
    "\t\tfile_to_process.save(os.path.join(app.config['UPLOAD_FOLDER'],filename))\n",
    "\t\treturn download(model.predict(file_to_process.filename))\n",
    "\treturn render_template('index_Predict.html')\n"
   ]
  },
  {
   "cell_type": "markdown",
   "metadata": {},
   "source": [
    "## Flask Route Setup Part 4\n",
    "\n",
    "In this part we are going to make the training UI display function for training.\n",
    "\n",
    "This functino renders the training page. This function will check if the model is being changed or is a file uplaoded for training. It will redirect to the loading screen for training once everything is validated.\n",
    "The reason why we do not perform the training process in this page is because we want to show an interface while the training process is happening. Otherwise the frontend HTML page will look like it's stuck."
   ]
  },
  {
   "cell_type": "code",
   "execution_count": null,
   "metadata": {
    "collapsed": true
   },
   "outputs": [],
   "source": [
    "@app.route('/train',methods=['GET','POST'])\n",
    "def index_train():\n",
    "    if session['changedmodel'] == 'True':\n",
    "        session['changedmodel'] = 'False'\n",
    "        return render_template('index_Train.html',modelChanged='True')\n",
    "    elif request.method == 'POST':\n",
    "        file_to_train = request.files['file']\n",
    "        if file_to_train and allowed_file(file_to_train.filename):\n",
    "            filename = secure_filename(file_to_train.filename)\n",
    "            app.config['UPLOAD_FOLDER'] = UPLOAD_FOLDER_TRAIN\n",
    "            file_to_train.save(os.path.join(app.config['UPLOAD_FOLDER'],filename))\n",
    "            session['trainingFile'] = file_to_train.filename\n",
    "            return redirect(url_for('load_Train'))\n",
    "        elif request.form['change'] == 'Change Model':\n",
    "            return redirect(url_for('change_model'))\n",
    "    return render_template('index_Train.html')\n",
    "\n"
   ]
  },
  {
   "cell_type": "markdown",
   "metadata": {},
   "source": [
    "## Flask Route Setup Part 5\n",
    "\n",
    "Finally we get to the training part. This function we are going to make will take care of the training process, getting the classification report, and redirecting to the results page."
   ]
  },
  {
   "cell_type": "code",
   "execution_count": null,
   "metadata": {
    "collapsed": true
   },
   "outputs": [],
   "source": [
    "@app.route('/training_in_progress', methods=['GET', 'POST'])\n",
    "def load_Train():\n",
    "    global newReport, currentReport,temp_model\n",
    "    temp_model = NN_model()\n",
    "    if request.method == 'POST':\n",
    "        latest_report = ''\n",
    "        try:\n",
    "            latest_report = temp_model.train(session['trainingFile'])\n",
    "        except:\n",
    "            errorString = 'Unable to generate a report based on the training data. Training data is invalid. Please upload another set of training data.'\n",
    "            log.error(errorString)\n",
    "            session['errorInfo'] = errorString\n",
    "            session['errorOc'] = True\n",
    "            return redirect(url_for('index_train'))\n",
    "\n",
    "        if model is not None:\n",
    "            previous_report = model.get_report()\n",
    "        else:\n",
    "            previous_report = None\n",
    "            \n",
    "            \n",
    "        if previous_report == None:\n",
    "            currentReport = [{\"No Model has been trained before\": \"This is the first training of the model.\"}]\n",
    "        else:\n",
    "            currentReport = previous_report\n",
    "            \n",
    "        newReport = latest_report\n",
    "        session['fileChosen'] = session['trainingFile']\n",
    "        app.config['UPLOAD_FOLDER'] = UPLOAD_FOLDER\n",
    "        log.info('Training complete.')\n",
    "        return redirect(url_for('train_res'))\n",
    "    else:\n",
    "        return render_template('loading.html')"
   ]
  },
  {
   "cell_type": "markdown",
   "metadata": {},
   "source": [
    "## Flask Route Setup Part 6\n",
    "\n",
    "In this part we are going to make a function that displays the training result. If the user accepts the results then we will redirect to the loading page where the changes to the active model will be applied. If the user declines the training results, then the temporary model object will be discarded."
   ]
  },
  {
   "cell_type": "code",
   "execution_count": null,
   "metadata": {
    "collapsed": true
   },
   "outputs": [],
   "source": [
    "@app.route('/train_result', methods=['GET','POST'])\n",
    "def train_res():\n",
    "    global temp_model\n",
    "    log.info('Training results rendered.')\n",
    "    try:\n",
    "        if request.method == 'POST':\n",
    "            #These statements check to see the decision of the user\n",
    "            if request.form['accept'] == 'Accept Changes':\n",
    "                log.info('Changes accepted.')\n",
    "                return redirect(url_for('load_accept'))\n",
    "            elif request.form['accept'] == 'Discard Changes':\n",
    "                #If the user discards the changes, this line will reset the temporary model\n",
    "                temp_model = None\n",
    "                log.info('Changes rejected. Discarding new model.')\n",
    "                return redirect(url_for('index_train'))\n",
    "            else:\n",
    "                return render_template('Train_result.html', newjsonTable=newReport, currentjsonTable=currentReport)\n",
    "    except:\n",
    "        errorString = 'Unable to gather model training results. Returning to training page.'\n",
    "        log.error(errorString)\n",
    "        session['errorOc'] = True\n",
    "        session['errorInfo'] = errorString\n",
    "        return render_template('Train_result.html', newjsonTable=newReport, currentjsonTable=currentReport, errorOcurred='True', errorInfo=errorString)\n",
    "    return render_template('Train_result.html', newjsonTable=newReport, currentjsonTable=currentReport)"
   ]
  },
  {
   "cell_type": "markdown",
   "metadata": {},
   "source": [
    "## Flask Route Setup Part 7\n",
    "\n",
    "In this part we will implement the function that will apply the changes once you accept the training results. It will update the picle file to the newest model. Afterwards, this function will redirect you back to the training page."
   ]
  },
  {
   "cell_type": "code",
   "execution_count": null,
   "metadata": {
    "collapsed": true
   },
   "outputs": [],
   "source": [
    "@app.route('/loading', methods=['GET', 'POST'])\n",
    "def load_accept(filename_load=\"nothing\"):\n",
    "\tglobal temp_model,model\n",
    "\tif request.method != 'GET':\n",
    "\t\tfilename_load = session['trainingFile']\n",
    "\tif request.method == 'GET':\n",
    "\t\treturn render_template('accepted.html')\n",
    "\telif request.method == 'POST' and filename_load != 'nothing':\n",
    "\t\tlog.info('Executing saving sequence.')\n",
    "\t\tmodel = temp_model\n",
    "\t\ttemp_model = None\n",
    "\t\tfile_pickle = open(fname,'wb')\n",
    "\t\tpickled = pkl.dump(model,file_pickle)\n",
    "\t\tfile_pickle.close()\n",
    "\t\treturn redirect(url_for('index_train'))\n",
    "\treturn render_template('accepted.html')"
   ]
  },
  {
   "cell_type": "markdown",
   "metadata": {},
   "source": [
    "# Congrats! You have completed all the coding part for the Flask App!!\n",
    "\n",
    "## Now you can use the previous file \"run.py\" that you made to run the Flask Application by calling the command below."
   ]
  },
  {
   "cell_type": "code",
   "execution_count": null,
   "metadata": {
    "collapsed": true
   },
   "outputs": [],
   "source": [
    "python run.py"
   ]
  },
  {
   "cell_type": "markdown",
   "metadata": {},
   "source": [
    "# Now you are ready to access your app from your browser!\n",
    "\n",
    "Click this!\n",
    "[localhost:5000](http://localhost:5000)"
   ]
  }
 ],
 "metadata": {
  "kernelspec": {
   "display_name": "Python 3",
   "language": "python",
   "name": "python3"
  },
  "language_info": {
   "codemirror_mode": {
    "name": "ipython",
    "version": 3
   },
   "file_extension": ".py",
   "mimetype": "text/x-python",
   "name": "python",
   "nbconvert_exporter": "python",
   "pygments_lexer": "ipython3",
   "version": "3.6.2"
  }
 },
 "nbformat": 4,
 "nbformat_minor": 2
}
