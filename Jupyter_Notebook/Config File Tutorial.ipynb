{
 "cells": [
  {
   "cell_type": "markdown",
   "metadata": {},
   "source": [
    "# Intro to Configuration Files \n",
    "\n",
    "## Description \n",
    "\n",
    "The purpose of __configuration files__ is to set our initial / default parameter values for the program. A config file is a special-format text file with a .ini file extension.\n",
    "\n",
    "It is organized into sections categorizing each defined property’s purpose.\n",
    "\n",
    "Every config file follows the following format: \n",
    "\n",
    "__Sections__\n",
    "-  must be unique within the _file_\n",
    "-  denoted by square brackets like this: _[SectionName]_ \n",
    "\n",
    "__Key value pairs__\n",
    "-  must be unique keys within the _section_\n",
    "-  formatted like this: _PropertyName=PropertyValue_ \n",
    "\n",
    "__Comments__  \n",
    "-  lines beginning with _#_"
   ]
  },
  {
   "cell_type": "markdown",
   "metadata": {
    "collapsed": true
   },
   "source": [
    "## Instructions\n",
    "\n",
    "__Part 1: Building a config file__ \n",
    "\n",
    "1. Open a new file and name it config.ini\n",
    "2. Copy and paste the following code into your file: "
   ]
  },
  {
   "cell_type": "code",
   "execution_count": null,
   "metadata": {
    "collapsed": true
   },
   "outputs": [],
   "source": [
    "[DownloadFolders]\n",
    "DOWNLOAD_FOLDER=/temp_predicted\n",
    "\n",
    "[PickleFileName]\n",
    "PICKLE_NAME=nn_model.pkl\n",
    "\n",
    "[NeuralNetConfig]\n",
    "ALPHA=1e-5\n",
    "HIDDEN_1=150\n",
    "HIDDEN_2=300\n",
    "HIDDEN_3=300\n",
    "HIDDEN_4=50\n",
    "RSTATE=1\n",
    "MAX_ITER=200\n",
    "LEARNING_RATE=0.001\n",
    "VERBOSE=True\n",
    "ACTIVATION=relu\n",
    "\n",
    "[Misc]\n",
    "TEST_SIZE_1=0.5\n",
    "TEST_SIZE_2=0.4\n",
    "RSTATE_1=101\n",
    "DIGIT_NUM=5"
   ]
  },
  {
   "cell_type": "markdown",
   "metadata": {
    "collapsed": true
   },
   "source": [
    "Now try it yourself! Fill in the _upload folder configuration settings_ at the top of the file.\n",
    "\n",
    "    - Create the section in this format: [SectionName]\n",
    "    - Create the 2 Key-Value pairs in this section following the format: PropertyName=PropertyValue\n",
    "        - Set the file path location for the prediction upload folder (temp_predict)\n",
    "        - Set the file path location for the train upload folder (train_data) \n"
   ]
  },
  {
   "cell_type": "markdown",
   "metadata": {},
   "source": [
    "__Part 2: Using a config file__ \n",
    "\n",
    "1. Open a new file and name it workshop_config.py\n",
    "2. Take note of the functions we will be using:"
   ]
  },
  {
   "cell_type": "code",
   "execution_count": null,
   "metadata": {
    "collapsed": true
   },
   "outputs": [],
   "source": [
    "# reading the config file\n",
    "config.read('name of file')\n",
    "\n",
    "# extracting information from config file\n",
    "config.get('section name', 'property name')"
   ]
  },
  {
   "cell_type": "markdown",
   "metadata": {},
   "source": [
    "Now, copy and paste the following code:"
   ]
  },
  {
   "cell_type": "code",
   "execution_count": null,
   "metadata": {
    "collapsed": true
   },
   "outputs": [],
   "source": [
    "# import the library we need\n",
    "from configparser import SafeConfigParser\n",
    "\n",
    "# define the configuration file parsing object\n",
    "config=SafeConfigParser()\n",
    "\n",
    "# read the config file\n",
    "config.read(‘config.ini’)\n",
    "\n",
    "# define variables using values from config file \n",
    "UPLOAD_PRED = config.get('UploadFolders','UPLOAD_FOLDER_PRED')\n",
    "UPLOAD_TRAIN = config.get('UploadFolders','UPLOAD_FOLDER_TRAIN')\n",
    "DOWNLOAD_FOLDER = config.get('DownloadFolders','DOWNLOAD_FOLDER')"
   ]
  }
 ],
 "metadata": {
  "kernelspec": {
   "display_name": "Python 2",
   "language": "python",
   "name": "python2"
  },
  "language_info": {
   "codemirror_mode": {
    "name": "ipython",
    "version": 2
   },
   "file_extension": ".py",
   "mimetype": "text/x-python",
   "name": "python",
   "nbconvert_exporter": "python",
   "pygments_lexer": "ipython2",
   "version": "2.7.13"
  }
 },
 "nbformat": 4,
 "nbformat_minor": 2
}
