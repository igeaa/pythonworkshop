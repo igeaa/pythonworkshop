{
 "cells": [
  {
   "cell_type": "markdown",
   "metadata": {},
   "source": [
    "### Introduction to Logging\n",
    "\n",
    "Create a new Python file and paste all the code over there and save it as filename logger.py"
   ]
  },
  {
   "cell_type": "code",
   "execution_count": null,
   "metadata": {
    "collapsed": true
   },
   "outputs": [],
   "source": [
    "import sys, os\n",
    "import logging\n",
    "from logging.handlers import TimedRotatingFileHandler\n",
    "\n",
    "class Logger:\n",
    "    # class member constants\n",
    "    DEBUG = logging.DEBUG\n",
    "    INFO = logging.INFO\n",
    "    NONE = logging.NOTSET\n",
    "    def __init__(self, fileName, level=logging.INFO, format = \"%(asctime)s - %(levelname)s - %(message)s\"):\n",
    "        # add log directory if it doesn't already exist\n",
    "        path = '{0}/logs'.format(os.getcwd())\n",
    "        if not os.path.exists(path):\n",
    "            os.makedirs(path)\n",
    "\n",
    "       # make sure file eists\n",
    "        open('logs/'+fileName, 'a').close()\n",
    "        \n",
    "       # set the appropriate settings for the logger\n",
    "        self.logger = logging.getLogger(fileName)\n",
    "        self.logger.setLevel(logging.INFO)\n",
    "        formatter = logging.Formatter(format)\n",
    "        \n",
    "\n",
    "        self.file_handler = TimedRotatingFileHandler(\"logs/\" + fileName,\n",
    "                                       when='D',\n",
    "                                       interval=1,\n",
    "                                       backupCount=30)\n",
    "        self.file_handler.setFormatter(formatter)\n",
    "        console_handler = logging.StreamHandler()\n",
    "        console_handler.setFormatter(formatter)\n",
    "        \n",
    "       # add the file and console logging handlers to the logger\n",
    "        self.logger.addHandler(self.file_handler)\n",
    "        self.logger.addHandler(console_handler)\n",
    "\n",
    "    def info(self, message):\n",
    "        self.logger.info(message)\n",
    "\n",
    "    def error(self, message):\n",
    "        self.logger.error(message)\n",
    "    \n",
    "    def warn(self, message):\n",
    "        self.logger.warning(message)"
   ]
  },
  {
   "cell_type": "markdown",
   "metadata": {},
   "source": [
    "### Integrating with the Hello world applications\n",
    "\n",
    "These log messages can be added anywhere in the program as we proceed. "
   ]
  },
  {
   "cell_type": "code",
   "execution_count": null,
   "metadata": {
    "collapsed": true
   },
   "outputs": [],
   "source": [
    "# Import the class we made to the hello world application\n",
    "from logger import Logger\n",
    "\n",
    "# Instantiate the class with the filename you want\n",
    "log = Logger('Testlog')\n",
    "\n",
    "# info log\n",
    "log.info('This is an info log')\n",
    "\n",
    "# error log\n",
    "log.error('This is an info log')\n",
    "\n",
    "# warn log\n",
    "log.warn('This is an info log')"
   ]
  }
 ],
 "metadata": {
  "kernelspec": {
   "display_name": "Python 3",
   "language": "python",
   "name": "python3"
  },
  "language_info": {
   "codemirror_mode": {
    "name": "ipython",
    "version": 3
   },
   "file_extension": ".py",
   "mimetype": "text/x-python",
   "name": "python",
   "nbconvert_exporter": "python",
   "pygments_lexer": "ipython3",
   "version": "3.6.2"
  }
 },
 "nbformat": 4,
 "nbformat_minor": 2
}
