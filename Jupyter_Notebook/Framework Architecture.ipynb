{
 "cells": [
  {
   "cell_type": "markdown",
   "metadata": {},
   "source": [
    "## Architecture Overview\n",
    "\n",
    "The image below shows the architecture for the model framework. The framework has two functionalities for the end user:\n",
    "1. The user can upload data and train a machine learning model. \n",
    "2. The user can make predictions for unlabelled data.\n",
    "\n",
    "\n",
    "![Architecture Overview](architecture_sample1.png)\n",
    "\n",
    "The framework comprises the front end and the back end. The front end is built in HTML and javascript. This is the part of the framework that the end user interacts with, i.e., a webpage that the user uses to upload dta and get results. This connects to the backend.\n",
    "\n",
    "The backend is a computing environment that does all the heavy lifting. In our framework, the back end is implemented in Python. Here, the REST API connects the front-end to the machine learning model and database. To execute the use functionalities, the REST API handles training and prediction calls from the front end. The REST API, in turn, takes the data for training or prediction and executes the appropriate functions. Consequently, the results of training and prediction are then passed back to the front end for user consumption.\n",
    "\n",
    "For this workshop, the database is not necessary."
   ]
  },
  {
   "cell_type": "markdown",
   "metadata": {},
   "source": []
  }
 ],
 "metadata": {
  "kernelspec": {
   "display_name": "Python 3",
   "language": "python",
   "name": "python3"
  },
  "language_info": {
   "codemirror_mode": {
    "name": "ipython",
    "version": 3
   },
   "file_extension": ".py",
   "mimetype": "text/x-python",
   "name": "python",
   "nbconvert_exporter": "python",
   "pygments_lexer": "ipython3",
   "version": "3.6.2"
  }
 },
 "nbformat": 4,
 "nbformat_minor": 2
}
